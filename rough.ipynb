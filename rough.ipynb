{
 "cells": [
  {
   "cell_type": "code",
   "execution_count": 1,
   "id": "a30a14e8",
   "metadata": {},
   "outputs": [],
   "source": [
    "import numpy as np"
   ]
  },
  {
   "cell_type": "markdown",
   "id": "23818436",
   "metadata": {},
   "source": [
    "## Hello there kaise ho ...."
   ]
  },
  {
   "cell_type": "markdown",
   "id": "03e15b57",
   "metadata": {},
   "source": [
    "### Sab badhiya hai ... tum batao yaar..."
   ]
  },
  {
   "cell_type": "code",
   "execution_count": 4,
   "id": "71c04bab",
   "metadata": {},
   "outputs": [],
   "source": [
    "nums = [1, 2, 4, 5]"
   ]
  },
  {
   "cell_type": "code",
   "execution_count": 5,
   "id": "be71e115",
   "metadata": {},
   "outputs": [
    {
     "data": {
      "text/plain": [
       "[1, 2, 4, 5]"
      ]
     },
     "execution_count": 5,
     "metadata": {},
     "output_type": "execute_result"
    }
   ],
   "source": [
    "nums"
   ]
  },
  {
   "cell_type": "code",
   "execution_count": 6,
   "id": "2b0bc00c",
   "metadata": {},
   "outputs": [],
   "source": [
    "nums= np.array(nums)"
   ]
  },
  {
   "cell_type": "code",
   "execution_count": 7,
   "id": "4c2e911e",
   "metadata": {},
   "outputs": [
    {
     "data": {
      "text/plain": [
       "array([1, 2, 4, 5])"
      ]
     },
     "execution_count": 7,
     "metadata": {},
     "output_type": "execute_result"
    }
   ],
   "source": [
    "nums"
   ]
  },
  {
   "cell_type": "code",
   "execution_count": 8,
   "id": "6f86cc39",
   "metadata": {},
   "outputs": [
    {
     "data": {
      "text/plain": [
       "(4,)"
      ]
     },
     "execution_count": 8,
     "metadata": {},
     "output_type": "execute_result"
    }
   ],
   "source": [
    "nums.shape"
   ]
  },
  {
   "cell_type": "code",
   "execution_count": 9,
   "id": "5c5c57b2",
   "metadata": {},
   "outputs": [
    {
     "data": {
      "text/plain": [
       "dtype('int32')"
      ]
     },
     "execution_count": 9,
     "metadata": {},
     "output_type": "execute_result"
    }
   ],
   "source": [
    "nums.dtype"
   ]
  },
  {
   "cell_type": "markdown",
   "id": "7fae2b8b",
   "metadata": {},
   "source": [
    "### tut-5 complete "
   ]
  },
  {
   "cell_type": "code",
   "execution_count": 10,
   "id": "de7b30ab",
   "metadata": {},
   "outputs": [
    {
     "data": {
      "text/plain": [
       "3.0"
      ]
     },
     "execution_count": 10,
     "metadata": {},
     "output_type": "execute_result"
    }
   ],
   "source": [
    "np.mean(nums)"
   ]
  },
  {
   "cell_type": "code",
   "execution_count": 13,
   "id": "f900b23f",
   "metadata": {},
   "outputs": [
    {
     "data": {
      "text/plain": [
       "12"
      ]
     },
     "execution_count": 13,
     "metadata": {},
     "output_type": "execute_result"
    }
   ],
   "source": [
    "np.sum(nums)"
   ]
  },
  {
   "cell_type": "code",
   "execution_count": 14,
   "id": "4b7b3b00",
   "metadata": {},
   "outputs": [],
   "source": [
    "zeroes = np.zeros(5)"
   ]
  },
  {
   "cell_type": "code",
   "execution_count": 15,
   "id": "5cc0a772",
   "metadata": {},
   "outputs": [
    {
     "data": {
      "text/plain": [
       "array([0., 0., 0., 0., 0.])"
      ]
     },
     "execution_count": 15,
     "metadata": {},
     "output_type": "execute_result"
    }
   ],
   "source": [
    "zeroes"
   ]
  },
  {
   "cell_type": "code",
   "execution_count": 17,
   "id": "938d4fc9",
   "metadata": {},
   "outputs": [],
   "source": [
    "z = np.zeros((4,5))"
   ]
  },
  {
   "cell_type": "code",
   "execution_count": 18,
   "id": "3bfd16d7",
   "metadata": {},
   "outputs": [
    {
     "data": {
      "text/plain": [
       "array([[0., 0., 0., 0., 0.],\n",
       "       [0., 0., 0., 0., 0.],\n",
       "       [0., 0., 0., 0., 0.],\n",
       "       [0., 0., 0., 0., 0.]])"
      ]
     },
     "execution_count": 18,
     "metadata": {},
     "output_type": "execute_result"
    }
   ],
   "source": [
    "z"
   ]
  },
  {
   "cell_type": "code",
   "execution_count": 19,
   "id": "8dd53156",
   "metadata": {},
   "outputs": [],
   "source": [
    "arr = np.eye(5)"
   ]
  },
  {
   "cell_type": "code",
   "execution_count": 20,
   "id": "c2fffecf",
   "metadata": {},
   "outputs": [
    {
     "data": {
      "text/plain": [
       "array([[1., 0., 0., 0., 0.],\n",
       "       [0., 1., 0., 0., 0.],\n",
       "       [0., 0., 1., 0., 0.],\n",
       "       [0., 0., 0., 1., 0.],\n",
       "       [0., 0., 0., 0., 1.]])"
      ]
     },
     "execution_count": 20,
     "metadata": {},
     "output_type": "execute_result"
    }
   ],
   "source": [
    "arr"
   ]
  },
  {
   "cell_type": "code",
   "execution_count": 21,
   "id": "7c6a2588",
   "metadata": {},
   "outputs": [],
   "source": [
    "arr1 = np.diag([1,2,3,4])"
   ]
  },
  {
   "cell_type": "code",
   "execution_count": 22,
   "id": "3ee63d34",
   "metadata": {},
   "outputs": [
    {
     "data": {
      "text/plain": [
       "array([[1, 0, 0, 0],\n",
       "       [0, 2, 0, 0],\n",
       "       [0, 0, 3, 0],\n",
       "       [0, 0, 0, 4]])"
      ]
     },
     "execution_count": 22,
     "metadata": {},
     "output_type": "execute_result"
    }
   ],
   "source": [
    "arr1"
   ]
  },
  {
   "cell_type": "code",
   "execution_count": 23,
   "id": "7b4b1f1d",
   "metadata": {},
   "outputs": [
    {
     "data": {
      "text/plain": [
       "array([1, 2, 3, 4])"
      ]
     },
     "execution_count": 23,
     "metadata": {},
     "output_type": "execute_result"
    }
   ],
   "source": [
    "np.diag(arr1)"
   ]
  },
  {
   "cell_type": "code",
   "execution_count": 24,
   "id": "eb2a91f6",
   "metadata": {},
   "outputs": [],
   "source": [
    "# Lets generate all random numbers b/w two numbers:\n",
    "arr = np.random.randint(1, 11, 10)"
   ]
  },
  {
   "cell_type": "code",
   "execution_count": 25,
   "id": "95bd8bc9",
   "metadata": {},
   "outputs": [
    {
     "data": {
      "text/plain": [
       "array([ 7,  1,  2, 10, 10,  2,  5,  8,  8,  2])"
      ]
     },
     "execution_count": 25,
     "metadata": {},
     "output_type": "execute_result"
    }
   ],
   "source": [
    "arr"
   ]
  },
  {
   "cell_type": "code",
   "execution_count": 26,
   "id": "df3714bb",
   "metadata": {},
   "outputs": [],
   "source": [
    "arr01 = np.random.rand(10)"
   ]
  },
  {
   "cell_type": "code",
   "execution_count": 27,
   "id": "4c81ab30",
   "metadata": {},
   "outputs": [
    {
     "data": {
      "text/plain": [
       "array([0.1836706 , 0.86747442, 0.7837647 , 0.52608463, 0.13255539,\n",
       "       0.39024899, 0.61327092, 0.40828396, 0.51355702, 0.92774234])"
      ]
     },
     "execution_count": 27,
     "metadata": {},
     "output_type": "execute_result"
    }
   ],
   "source": [
    "arr01"
   ]
  },
  {
   "cell_type": "code",
   "execution_count": 30,
   "id": "3233ea9c",
   "metadata": {},
   "outputs": [],
   "source": [
    "hello = np.random.randn(10)  # normal distribution k around random values milegi...."
   ]
  },
  {
   "cell_type": "code",
   "execution_count": 31,
   "id": "f976ac83",
   "metadata": {},
   "outputs": [
    {
     "data": {
      "text/plain": [
       "array([-1.67249778, -0.4109827 , -1.14410441,  0.78461122,  0.68790168,\n",
       "       -0.88954832,  0.46791561, -0.74599362, -0.01833718, -0.4210761 ])"
      ]
     },
     "execution_count": 31,
     "metadata": {},
     "output_type": "execute_result"
    }
   ],
   "source": [
    "hello"
   ]
  },
  {
   "cell_type": "code",
   "execution_count": 32,
   "id": "26b537d6",
   "metadata": {},
   "outputs": [],
   "source": [
    "martix = np.random.randn(3,4)"
   ]
  },
  {
   "cell_type": "code",
   "execution_count": 33,
   "id": "9263418e",
   "metadata": {},
   "outputs": [
    {
     "data": {
      "text/plain": [
       "array([[ 0.36477594,  0.18633181, -0.27718354,  2.06576463],\n",
       "       [ 0.04953991, -0.54628807,  0.53723133,  0.34285252],\n",
       "       [ 0.19212966, -0.30872349,  0.58510324,  0.24316552]])"
      ]
     },
     "execution_count": 33,
     "metadata": {},
     "output_type": "execute_result"
    }
   ],
   "source": [
    "martix"
   ]
  },
  {
   "cell_type": "code",
   "execution_count": 34,
   "id": "8ce75109",
   "metadata": {},
   "outputs": [],
   "source": [
    "matrix = np.random.randn(500)"
   ]
  },
  {
   "cell_type": "code",
   "execution_count": 35,
   "id": "7b5b0917",
   "metadata": {},
   "outputs": [
    {
     "data": {
      "text/plain": [
       "array([ 1.70947310e-01,  2.55182403e-01, -5.80807202e-01,  1.31500866e+00,\n",
       "        8.00158275e-01,  1.43617064e+00, -2.68862157e-01, -1.34444103e+00,\n",
       "        2.07539757e-01,  1.71816703e+00, -1.04392088e+00, -1.22125962e+00,\n",
       "       -7.26257965e-01, -1.55195978e-01, -2.95938223e-01, -4.96796462e-01,\n",
       "       -1.55877731e+00,  1.23502641e+00,  1.02231376e-01,  3.95117681e-01,\n",
       "        2.09975682e-01,  5.71658037e-01, -1.22427930e+00, -7.36608795e-01,\n",
       "       -2.50863912e-01, -3.27453693e-01, -3.33945316e-01,  2.40554576e-02,\n",
       "        4.37548610e-01,  1.03466177e+00,  8.36495260e-02,  7.47262847e-01,\n",
       "       -8.65906553e-01,  1.01541665e+00, -6.03284118e-01,  3.21002033e-01,\n",
       "        6.21371609e-01,  5.33091170e-01,  2.29297961e-02, -1.41549374e-01,\n",
       "        9.86978790e-01, -4.02747241e-02, -1.21259325e+00, -6.61124393e-01,\n",
       "       -4.41784019e-01,  7.28836801e-01,  2.42726015e-01,  1.17787715e+00,\n",
       "       -5.96958026e-01,  4.23441773e-01,  1.69581612e+00,  3.10908083e-02,\n",
       "        2.35130792e-01,  5.16761282e-01,  9.96218013e-01, -1.95208040e-01,\n",
       "        4.41326125e-02,  1.68782770e+00,  8.37113154e-02, -1.20672041e-02,\n",
       "       -1.60531841e+00,  6.98267168e-01, -5.40188340e-01, -7.39632889e-02,\n",
       "       -1.53403023e+00,  9.43270194e-01,  1.72725846e+00, -8.23395186e-04,\n",
       "       -2.98741382e-01,  2.17300150e+00,  6.07558819e-01,  1.82218357e-02,\n",
       "        3.34131302e-01, -2.11737263e+00,  2.82864518e-02, -4.42447357e-01,\n",
       "       -2.18429155e-01,  9.53547544e-02, -1.74807036e+00,  2.65220034e-01,\n",
       "       -6.81732542e-01,  9.59401257e-01,  1.72867048e+00,  1.47422545e+00,\n",
       "       -1.72903771e+00, -2.21084928e-01, -5.88013865e-02,  3.76590385e-03,\n",
       "       -4.06905917e-01,  1.88180827e+00, -3.23543910e-01,  3.11091738e-03,\n",
       "       -1.88086136e+00, -2.63269247e-01,  7.63564764e-02,  1.95511611e-01,\n",
       "        1.34386830e+00, -1.10759342e+00, -9.56999361e-01, -6.49415368e-01,\n",
       "       -2.31580489e+00,  2.53886875e+00,  9.40155071e-01,  1.10361236e-01,\n",
       "        1.57893811e+00,  1.52104109e+00, -5.22695284e-01, -3.82998925e-02,\n",
       "       -1.40038389e-02, -1.31369697e-01, -1.67894238e+00, -7.12711455e-01,\n",
       "       -1.66079235e+00, -8.60164186e-01,  6.28255532e-01, -5.82488659e-03,\n",
       "        4.73533806e-01,  7.38340789e-01, -4.08472347e-01, -3.11232004e-01,\n",
       "        1.80756592e-01, -9.79281295e-01,  3.23518293e-01, -3.50317608e-01,\n",
       "        1.88782847e+00, -7.97478532e-01,  4.15053881e-01,  1.07282526e+00,\n",
       "       -4.34595878e-01, -6.22390242e-01, -1.50660547e+00, -1.24618597e+00,\n",
       "       -8.59590557e-01,  5.11133000e-01,  6.15429786e-02, -2.51847167e-01,\n",
       "        1.55115671e+00, -4.23899084e-02,  6.28207057e-01,  6.42020886e-01,\n",
       "        2.00300458e-01, -5.00355248e-01,  8.58491203e-01,  1.54571152e+00,\n",
       "        5.19118540e-01, -1.04772156e+00,  3.90423523e-01, -2.04493075e-01,\n",
       "       -4.64758539e-01,  2.09636112e-02,  8.01853509e-01, -3.13374354e-01,\n",
       "        1.69334814e+00,  2.15138780e-01, -1.32772916e-01,  7.13854759e-01,\n",
       "       -1.04312105e-01,  5.01425419e-01, -1.36669852e+00,  5.83128319e-01,\n",
       "       -1.43683257e+00, -3.74725144e-01, -8.99614039e-01, -3.20468515e-01,\n",
       "        6.78081083e-01, -1.56909981e+00,  7.81307129e-01,  7.99873144e-01,\n",
       "        1.48784900e+00,  9.18405847e-01, -2.66787990e-01,  1.11267171e+00,\n",
       "       -3.71647943e-01,  1.52932368e+00, -8.07795535e-01,  1.81115134e+00,\n",
       "        6.97320567e-01,  6.95586000e-01, -2.30344665e-01, -2.20815443e-01,\n",
       "        1.62592510e-01, -1.09948041e+00, -1.20973612e+00,  4.45178219e-01,\n",
       "       -5.37778369e-01,  1.07322084e+00, -9.02881668e-01, -1.17051769e+00,\n",
       "       -7.25507802e-02, -1.68337465e-01,  5.81248521e-01,  3.45587459e-01,\n",
       "       -1.36375219e-01, -1.31734781e-01,  3.42511494e-01, -1.25864581e-01,\n",
       "        1.78072408e+00, -1.49052215e+00,  8.86574389e-02, -4.05463778e-01,\n",
       "        8.04609037e-02, -1.51721135e+00, -5.20207752e-02,  4.73636706e-01,\n",
       "       -1.00887372e+00, -1.57798841e+00, -1.54853516e-01, -5.60730823e-02,\n",
       "       -1.27307393e+00, -2.10568258e+00, -1.10993455e-01,  8.63550613e-01,\n",
       "        4.98984456e-01,  3.02418010e-02,  5.43325101e-01, -4.55781882e-01,\n",
       "        6.62316500e-01, -8.07978742e-01, -5.60977525e-01,  6.63275575e-01,\n",
       "        1.64735424e-01, -6.85202457e-01,  1.13513760e+00,  6.97845951e-01,\n",
       "        2.22287900e-01,  8.01157546e-01,  1.55417040e+00, -1.93886670e-01,\n",
       "        1.29428353e-01, -2.23712586e-01,  7.86890383e-01,  8.44009147e-01,\n",
       "       -7.33570920e-01,  1.55950410e+00,  3.97452786e-01,  1.14159310e+00,\n",
       "       -4.26999962e-01, -7.56541127e-01,  9.56111868e-01,  2.54716532e-01,\n",
       "       -6.66428524e-01,  6.07839289e-01,  2.15449440e+00, -1.84052023e+00,\n",
       "       -1.22210201e+00,  6.03403551e-01,  6.83149627e-03, -8.54376345e-01,\n",
       "        2.60647333e+00, -5.74249917e-01, -4.24544149e-01, -7.83237045e-01,\n",
       "       -5.21555127e-01, -2.57727530e-01, -2.10221199e-02,  5.62833689e-01,\n",
       "        4.18982665e-01,  7.61329591e-01, -6.74674436e-01,  1.21275808e+00,\n",
       "       -2.07838926e+00, -1.10564712e-01, -9.33411172e-01, -1.18687078e+00,\n",
       "        1.03809476e+00, -1.16644754e+00, -4.75887013e-01, -1.21732875e+00,\n",
       "       -6.20115021e-02,  5.45730574e-01, -2.56864569e-01, -5.12951556e-01,\n",
       "       -2.24429708e-01, -1.32158447e+00,  4.33982406e-02,  4.87805598e-01,\n",
       "       -2.80534578e-01,  8.35651589e-01,  2.12438719e-01, -3.04103311e-01,\n",
       "        1.03187356e+00,  2.56885652e-01,  2.26121284e+00, -5.95358356e-01,\n",
       "        2.89788199e-01,  4.15432233e-03,  9.51141938e-01, -1.49708081e-01,\n",
       "       -2.10684480e-01, -1.50764960e-01,  4.49216223e-01,  3.54446725e-01,\n",
       "        2.72396371e-01,  6.98828719e-01,  2.03486680e+00, -1.98312653e+00,\n",
       "       -3.07333087e-01, -5.29448426e-01,  4.24039411e-01,  1.16710067e+00,\n",
       "        9.52718233e-02,  8.05232399e-01, -4.03569701e-01,  1.12076617e-01,\n",
       "       -7.00854115e-03, -1.13652795e+00,  1.28155999e-01, -1.45719720e-01,\n",
       "       -2.96932812e-01,  1.11253827e+00, -1.04211643e-01,  1.25725709e+00,\n",
       "        9.23095371e-02, -1.46154683e-01,  3.86582010e-02,  6.60423627e-01,\n",
       "       -3.22977273e-01, -4.30984027e-02,  9.35727339e-01,  5.39351254e-01,\n",
       "        1.25801213e+00, -2.85974502e-01,  1.58403796e+00, -7.36723016e-01,\n",
       "        6.23850325e-01, -2.08866739e+00,  3.94640062e-02, -1.57486116e+00,\n",
       "        5.39692286e-01,  1.32683695e+00,  1.86017464e-01,  4.97007498e-01,\n",
       "        4.31750574e-01, -2.08321987e-01, -3.32904974e-01,  4.80861723e-01,\n",
       "        6.56449071e-01, -1.81212501e-01,  1.43070959e-01,  6.42280210e-01,\n",
       "       -1.46224293e+00,  4.77072287e-01,  1.02245979e+00, -1.35277380e+00,\n",
       "        1.36518459e-02,  1.29937042e+00, -6.98964439e-01,  1.49361522e+00,\n",
       "        6.43483948e-01,  9.58943685e-01, -1.20947560e-01, -1.43948199e-01,\n",
       "        1.43846223e+00,  4.79411063e-01,  1.05606278e-01, -5.15346236e-01,\n",
       "       -1.47004846e+00,  1.19702177e-01,  1.29755549e+00,  4.82279243e-01,\n",
       "       -9.69795077e-01,  6.60269156e-01,  8.41583717e-01,  6.96879698e-01,\n",
       "       -1.20804491e+00,  1.44654439e+00, -7.88396237e-01,  4.66459295e-02,\n",
       "       -1.28332726e+00,  6.66451123e-02,  5.29443579e-01, -1.21279270e+00,\n",
       "        2.77576998e-01,  1.26194543e+00,  6.32566035e-02,  8.71719028e-01,\n",
       "        8.82183200e-01, -2.54403667e-01,  1.17743039e+00,  9.66419815e-01,\n",
       "       -2.23459687e-01, -1.59591672e-01, -1.37143504e+00,  1.14539788e+00,\n",
       "       -7.37550997e-01,  1.85907688e-01, -1.72535225e-01,  9.33273395e-01,\n",
       "        1.37075684e+00, -2.68755056e-01, -1.29155233e+00,  2.04851359e-01,\n",
       "        5.17316267e-01,  1.35598770e+00, -8.55639259e-01,  1.42740619e+00,\n",
       "        6.82960612e-01,  4.49326317e-01, -3.56484573e-01, -1.71316291e-01,\n",
       "        2.05208472e-01, -1.33083644e-01,  2.78383881e-01, -2.69808205e-01,\n",
       "       -1.26418927e-01,  1.33882672e+00,  7.20823019e-02,  2.65907876e-01,\n",
       "       -1.38895470e+00,  6.02316796e-01,  1.20118527e+00, -3.75663286e-01,\n",
       "        8.91069990e-01, -4.44016275e-01, -1.75733414e+00, -2.86741620e-01,\n",
       "        3.32797682e+00,  2.70887166e-01, -6.14048773e-01,  8.45430217e-01,\n",
       "       -1.47379928e+00, -3.11433879e-01, -7.87951987e-02,  1.06185283e+00,\n",
       "       -2.70126141e-01,  1.44268782e+00,  5.69732578e-01,  3.49946293e-01,\n",
       "       -6.89482351e-01,  3.02228406e-01, -3.84117438e-01, -1.38490479e+00,\n",
       "        2.01958561e+00, -1.65555204e+00, -1.97240092e+00,  3.85231952e-01,\n",
       "       -5.45821384e-01, -7.26344105e-01,  3.12727702e-01, -7.59247044e-01,\n",
       "       -3.88520525e-01,  1.16925922e+00, -1.48171870e+00, -1.94000417e+00,\n",
       "        5.92147066e-01, -1.08174297e+00, -1.09197707e+00,  6.73036330e-01,\n",
       "        4.99796674e-02, -1.73887910e-01,  1.41791077e+00, -4.57901650e-01,\n",
       "       -3.99943928e-01, -2.34837469e+00,  4.94830237e-01, -3.71125969e-02,\n",
       "       -5.64001912e-01, -1.26482677e-01,  1.10116520e+00, -2.18134549e-01,\n",
       "        1.36688603e+00, -1.33228108e+00, -2.96444546e-01, -9.56393694e-01,\n",
       "       -9.42742436e-01,  9.79371500e-01, -7.06257806e-01,  5.32111405e-01,\n",
       "        5.63667353e-01,  1.67591376e+00, -1.36224097e+00,  1.63164024e+00,\n",
       "        2.52769672e-01,  1.39731874e+00, -8.09699059e-01, -1.15003078e+00,\n",
       "        1.13377651e+00,  2.22762745e-01,  9.66922559e-01,  1.32409690e+00,\n",
       "       -1.74493384e-01, -4.79886747e-01, -1.05741902e+00,  4.40790285e-01,\n",
       "        1.12786837e+00, -8.53938809e-02, -6.94990196e-01,  1.07742076e-01,\n",
       "        2.11073864e+00, -5.58085415e-01, -7.31110096e-01, -9.14567817e-01,\n",
       "       -1.01238731e+00, -8.18297258e-01, -2.21726256e+00,  9.49212680e-01,\n",
       "        7.47699045e-01,  1.59630250e+00, -1.20317318e+00,  3.89495883e-01])"
      ]
     },
     "execution_count": 35,
     "metadata": {},
     "output_type": "execute_result"
    }
   ],
   "source": [
    "matrix"
   ]
  },
  {
   "cell_type": "code",
   "execution_count": 36,
   "id": "1429f169",
   "metadata": {},
   "outputs": [
    {
     "data": {
      "text/plain": [
       "0.05248644972037083"
      ]
     },
     "execution_count": 36,
     "metadata": {},
     "output_type": "execute_result"
    }
   ],
   "source": [
    "np.mean(matrix)"
   ]
  },
  {
   "cell_type": "code",
   "execution_count": 37,
   "id": "c880dc61",
   "metadata": {},
   "outputs": [
    {
     "data": {
      "text/plain": [
       "26.243224860185414"
      ]
     },
     "execution_count": 37,
     "metadata": {},
     "output_type": "execute_result"
    }
   ],
   "source": [
    "np.sum(matrix)"
   ]
  },
  {
   "cell_type": "code",
   "execution_count": 40,
   "id": "204ad0a0",
   "metadata": {},
   "outputs": [],
   "source": [
    "import pandas as pd"
   ]
  },
  {
   "cell_type": "code",
   "execution_count": 41,
   "id": "758db6ea",
   "metadata": {},
   "outputs": [],
   "source": [
    "ser = pd.Series([1,2,3,4,5])"
   ]
  },
  {
   "cell_type": "code",
   "execution_count": 42,
   "id": "10a2243c",
   "metadata": {},
   "outputs": [
    {
     "data": {
      "text/plain": [
       "0    1\n",
       "1    2\n",
       "2    3\n",
       "3    4\n",
       "4    5\n",
       "dtype: int64"
      ]
     },
     "execution_count": 42,
     "metadata": {},
     "output_type": "execute_result"
    }
   ],
   "source": [
    "ser"
   ]
  },
  {
   "cell_type": "code",
   "execution_count": 43,
   "id": "77a6ad14",
   "metadata": {},
   "outputs": [
    {
     "data": {
      "text/plain": [
       "pandas.core.series.Series"
      ]
     },
     "execution_count": 43,
     "metadata": {},
     "output_type": "execute_result"
    }
   ],
   "source": [
    "type(ser)"
   ]
  },
  {
   "cell_type": "code",
   "execution_count": 44,
   "id": "63337cf0",
   "metadata": {},
   "outputs": [
    {
     "data": {
      "text/plain": [
       "dtype('int64')"
      ]
     },
     "execution_count": 44,
     "metadata": {},
     "output_type": "execute_result"
    }
   ],
   "source": [
    "ser.dtype"
   ]
  },
  {
   "cell_type": "code",
   "execution_count": 45,
   "id": "76c35a13",
   "metadata": {},
   "outputs": [
    {
     "data": {
      "text/plain": [
       "[1, 2, 3, 4, 5]"
      ]
     },
     "execution_count": 45,
     "metadata": {},
     "output_type": "execute_result"
    }
   ],
   "source": [
    "ser.tolist()"
   ]
  },
  {
   "cell_type": "code",
   "execution_count": 46,
   "id": "3716f626",
   "metadata": {},
   "outputs": [
    {
     "data": {
      "text/plain": [
       "pandas.core.series.Series"
      ]
     },
     "execution_count": 46,
     "metadata": {},
     "output_type": "execute_result"
    }
   ],
   "source": [
    "type(ser)"
   ]
  },
  {
   "cell_type": "code",
   "execution_count": 47,
   "id": "d4905ba6",
   "metadata": {},
   "outputs": [
    {
     "data": {
      "text/plain": [
       "list"
      ]
     },
     "execution_count": 47,
     "metadata": {},
     "output_type": "execute_result"
    }
   ],
   "source": [
    "type(ser.tolist())"
   ]
  },
  {
   "cell_type": "code",
   "execution_count": null,
   "id": "0f0f3830",
   "metadata": {},
   "outputs": [],
   "source": []
  }
 ],
 "metadata": {
  "kernelspec": {
   "display_name": "Python 3",
   "language": "python",
   "name": "python3"
  },
  "language_info": {
   "codemirror_mode": {
    "name": "ipython",
    "version": 3
   },
   "file_extension": ".py",
   "mimetype": "text/x-python",
   "name": "python",
   "nbconvert_exporter": "python",
   "pygments_lexer": "ipython3",
   "version": "3.8.8"
  }
 },
 "nbformat": 4,
 "nbformat_minor": 5
}
