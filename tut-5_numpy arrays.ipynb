{
 "cells": [
  {
   "cell_type": "code",
   "execution_count": 2,
   "id": "875f3ead",
   "metadata": {},
   "outputs": [],
   "source": [
    "import numpy as np"
   ]
  },
  {
   "cell_type": "code",
   "execution_count": 3,
   "id": "80819d33",
   "metadata": {},
   "outputs": [],
   "source": [
    "nums = [1,2,3]"
   ]
  },
  {
   "cell_type": "code",
   "execution_count": 5,
   "id": "819d8f33",
   "metadata": {},
   "outputs": [
    {
     "data": {
      "text/plain": [
       "list"
      ]
     },
     "execution_count": 5,
     "metadata": {},
     "output_type": "execute_result"
    }
   ],
   "source": [
    "type(nums)  # this is list"
   ]
  },
  {
   "cell_type": "code",
   "execution_count": 9,
   "id": "30d7660e",
   "metadata": {},
   "outputs": [],
   "source": [
    "nums = np.array(nums)"
   ]
  },
  {
   "cell_type": "code",
   "execution_count": 10,
   "id": "9812a617",
   "metadata": {},
   "outputs": [
    {
     "data": {
      "text/plain": [
       "array([1, 2, 3])"
      ]
     },
     "execution_count": 10,
     "metadata": {},
     "output_type": "execute_result"
    }
   ],
   "source": [
    "nums"
   ]
  },
  {
   "cell_type": "code",
   "execution_count": 11,
   "id": "43c7b0d8",
   "metadata": {},
   "outputs": [
    {
     "data": {
      "text/plain": [
       "1"
      ]
     },
     "execution_count": 11,
     "metadata": {},
     "output_type": "execute_result"
    }
   ],
   "source": [
    "nums.ndim"
   ]
  },
  {
   "cell_type": "code",
   "execution_count": 12,
   "id": "56a34152",
   "metadata": {},
   "outputs": [
    {
     "data": {
      "text/plain": [
       "(3,)"
      ]
     },
     "execution_count": 12,
     "metadata": {},
     "output_type": "execute_result"
    }
   ],
   "source": [
    "nums.shape"
   ]
  },
  {
   "cell_type": "code",
   "execution_count": 13,
   "id": "3c25ed92",
   "metadata": {},
   "outputs": [
    {
     "data": {
      "text/plain": [
       "dtype('int32')"
      ]
     },
     "execution_count": 13,
     "metadata": {},
     "output_type": "execute_result"
    }
   ],
   "source": [
    "nums.dtype"
   ]
  },
  {
   "cell_type": "code",
   "execution_count": 6,
   "id": "1fd49ce6",
   "metadata": {},
   "outputs": [],
   "source": [
    "# Command mode se Edit mode me jaane k liye Enter pe click karna hai."
   ]
  },
  {
   "cell_type": "code",
   "execution_count": 7,
   "id": "0d75ae4a",
   "metadata": {},
   "outputs": [],
   "source": [
    "nums1 = [[1, 2, 3],[4, 5, 6]]"
   ]
  },
  {
   "cell_type": "code",
   "execution_count": 9,
   "id": "02bfa937",
   "metadata": {},
   "outputs": [],
   "source": [
    "nums1 = np.array(nums1)"
   ]
  },
  {
   "cell_type": "code",
   "execution_count": 11,
   "id": "574d6669",
   "metadata": {},
   "outputs": [
    {
     "data": {
      "text/plain": [
       "array([[1, 2, 3],\n",
       "       [4, 5, 6]])"
      ]
     },
     "execution_count": 11,
     "metadata": {},
     "output_type": "execute_result"
    }
   ],
   "source": [
    "nums1  # this will be 2-d matrix"
   ]
  },
  {
   "cell_type": "code",
   "execution_count": 18,
   "id": "6b712cc0",
   "metadata": {},
   "outputs": [
    {
     "data": {
      "text/plain": [
       "2"
      ]
     },
     "execution_count": 18,
     "metadata": {},
     "output_type": "execute_result"
    }
   ],
   "source": [
    "nums1.ndim"
   ]
  },
  {
   "cell_type": "code",
   "execution_count": 12,
   "id": "da134431",
   "metadata": {},
   "outputs": [],
   "source": [
    "# Lets make a 3-d array i.e tensor(for n-dimensinal array if n > 2 => tensor else if n == 2 => matrix else vector)"
   ]
  },
  {
   "cell_type": "code",
   "execution_count": 13,
   "id": "5bce2a98",
   "metadata": {},
   "outputs": [],
   "source": [
    "nums2 = [[[1, 2, 3], [4, 5, 6]], [[11, 22, 33], [44, 55, 66]]]"
   ]
  },
  {
   "cell_type": "code",
   "execution_count": 14,
   "id": "01fe2541",
   "metadata": {},
   "outputs": [],
   "source": [
    "nums2 = np.array(nums2)"
   ]
  },
  {
   "cell_type": "code",
   "execution_count": 15,
   "id": "4a089afe",
   "metadata": {},
   "outputs": [
    {
     "data": {
      "text/plain": [
       "array([[[ 1,  2,  3],\n",
       "        [ 4,  5,  6]],\n",
       "\n",
       "       [[11, 22, 33],\n",
       "        [44, 55, 66]]])"
      ]
     },
     "execution_count": 15,
     "metadata": {},
     "output_type": "execute_result"
    }
   ],
   "source": [
    "nums2"
   ]
  },
  {
   "cell_type": "code",
   "execution_count": 17,
   "id": "88d429a4",
   "metadata": {},
   "outputs": [
    {
     "data": {
      "text/plain": [
       "numpy.ndarray"
      ]
     },
     "execution_count": 17,
     "metadata": {},
     "output_type": "execute_result"
    }
   ],
   "source": [
    "type(nums2)  # we can see that its n-d array"
   ]
  },
  {
   "cell_type": "code",
   "execution_count": 20,
   "id": "eaff492f",
   "metadata": {},
   "outputs": [
    {
     "data": {
      "text/plain": [
       "3"
      ]
     },
     "execution_count": 20,
     "metadata": {},
     "output_type": "execute_result"
    }
   ],
   "source": [
    "nums2.ndim   # output is 3 => its 3 dimensional array"
   ]
  },
  {
   "cell_type": "code",
   "execution_count": 21,
   "id": "faf7cd6c",
   "metadata": {},
   "outputs": [],
   "source": [
    "# functin called shape() => this will return a tuple i.e (no_rows, no_cols)"
   ]
  },
  {
   "cell_type": "code",
   "execution_count": 22,
   "id": "75d32b4d",
   "metadata": {},
   "outputs": [
    {
     "data": {
      "text/plain": [
       "(2, 2, 3)"
      ]
     },
     "execution_count": 22,
     "metadata": {},
     "output_type": "execute_result"
    }
   ],
   "source": [
    "# for eg:-\n",
    "nums2.shape"
   ]
  },
  {
   "cell_type": "code",
   "execution_count": 25,
   "id": "22a5bdc1",
   "metadata": {},
   "outputs": [
    {
     "data": {
      "text/plain": [
       "(2, 3)"
      ]
     },
     "execution_count": 25,
     "metadata": {},
     "output_type": "execute_result"
    }
   ],
   "source": [
    "nums1.shape  # in nums2 we have 2 rows and 3 columns"
   ]
  },
  {
   "cell_type": "code",
   "execution_count": 29,
   "id": "cc0a4dc3",
   "metadata": {},
   "outputs": [
    {
     "data": {
      "text/plain": [
       "(dtype('int32'), dtype('int32'))"
      ]
     },
     "execution_count": 29,
     "metadata": {},
     "output_type": "execute_result"
    }
   ],
   "source": [
    "nums1.dtype, nums2.dtype   # both this arrays is storing values of same datatype."
   ]
  },
  {
   "cell_type": "code",
   "execution_count": 26,
   "id": "522679d5",
   "metadata": {},
   "outputs": [],
   "source": [
    "# In numpy array, we can only store array of one datatype.(IMP****)"
   ]
  },
  {
   "cell_type": "code",
   "execution_count": 27,
   "id": "7f84d578",
   "metadata": {},
   "outputs": [],
   "source": [
    "# for example:\n",
    "\n",
    "# in python this is correct(i.e in case of list) but in numpy array we can't do this that the reason why numpy array is faster\n",
    "# ls = [1, 3, 5253, \"Rahul\", False, 1.2515]\n",
    "# for i in ls:\n",
    "#     print(i)"
   ]
  },
  {
   "cell_type": "code",
   "execution_count": 30,
   "id": "03ab8e18",
   "metadata": {},
   "outputs": [],
   "source": [
    "# Also keep this in mind....see below behaviour :-"
   ]
  },
  {
   "cell_type": "code",
   "execution_count": 31,
   "id": "c81197e8",
   "metadata": {},
   "outputs": [],
   "source": [
    "arr3 = [1, 2, 3.0]"
   ]
  },
  {
   "cell_type": "code",
   "execution_count": 32,
   "id": "bd5cb080",
   "metadata": {},
   "outputs": [],
   "source": [
    "arr3 = np.array(arr3)"
   ]
  },
  {
   "cell_type": "code",
   "execution_count": 38,
   "id": "f2974605",
   "metadata": {},
   "outputs": [
    {
     "data": {
      "text/plain": [
       "array([1., 2., 3.])"
      ]
     },
     "execution_count": 38,
     "metadata": {},
     "output_type": "execute_result"
    }
   ],
   "source": [
    "arr3  # all the other integer has been converted to floats(precedence: i.e for higher data type)"
   ]
  },
  {
   "cell_type": "code",
   "execution_count": 34,
   "id": "5a345c95",
   "metadata": {},
   "outputs": [],
   "source": [
    "arr4 = [1, 2, '4.0', 56]"
   ]
  },
  {
   "cell_type": "code",
   "execution_count": 35,
   "id": "eb4a6ba5",
   "metadata": {},
   "outputs": [],
   "source": [
    "arr4 = np.array(arr4)"
   ]
  },
  {
   "cell_type": "code",
   "execution_count": 37,
   "id": "a2ab37f3",
   "metadata": {},
   "outputs": [
    {
     "data": {
      "text/plain": [
       "array(['1', '2', '4.0', '56'], dtype='<U11')"
      ]
     },
     "execution_count": 37,
     "metadata": {},
     "output_type": "execute_result"
    }
   ],
   "source": [
    "arr4  # Now, all the values converted to strings"
   ]
  },
  {
   "cell_type": "code",
   "execution_count": null,
   "id": "66099934",
   "metadata": {},
   "outputs": [],
   "source": []
  }
 ],
 "metadata": {
  "kernelspec": {
   "display_name": "Python 3",
   "language": "python",
   "name": "python3"
  },
  "language_info": {
   "codemirror_mode": {
    "name": "ipython",
    "version": 3
   },
   "file_extension": ".py",
   "mimetype": "text/x-python",
   "name": "python",
   "nbconvert_exporter": "python",
   "pygments_lexer": "ipython3",
   "version": "3.8.8"
  }
 },
 "nbformat": 4,
 "nbformat_minor": 5
}
