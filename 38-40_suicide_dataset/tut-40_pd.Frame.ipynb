{
 "cells": [
  {
   "cell_type": "code",
   "execution_count": 1,
   "id": "c95e74a4",
   "metadata": {},
   "outputs": [],
   "source": [
    "import pandas as pd"
   ]
  },
  {
   "cell_type": "code",
   "execution_count": 3,
   "id": "e870431a",
   "metadata": {},
   "outputs": [],
   "source": [
    "# DataFrame is a class and we are calling __init__ method fromt that class, I am using method for pd.DataFrame\n",
    "# we prefer csv file creation than dataFrame creation."
   ]
  },
  {
   "cell_type": "markdown",
   "id": "9ec40a8a",
   "metadata": {},
   "source": [
    "## When data is arranged in columns:"
   ]
  },
  {
   "cell_type": "code",
   "execution_count": 7,
   "id": "9c6bfd07",
   "metadata": {},
   "outputs": [],
   "source": [
    "names = ['Rahul', 'Prince', 'Spartan']\n",
    "hobbies = ['Coding', 'Pc Games', 'Judo']\n",
    "height = ['175 cm', '170 cm', '165 cm']"
   ]
  },
  {
   "cell_type": "code",
   "execution_count": 8,
   "id": "651d00d0",
   "metadata": {},
   "outputs": [],
   "source": [
    "information = pd.DataFrame({'Name': names, 'Hobbies': hobbies, 'Height': height})"
   ]
  },
  {
   "cell_type": "code",
   "execution_count": 9,
   "id": "b0cf00cb",
   "metadata": {},
   "outputs": [
    {
     "data": {
      "text/html": [
       "<div>\n",
       "<style scoped>\n",
       "    .dataframe tbody tr th:only-of-type {\n",
       "        vertical-align: middle;\n",
       "    }\n",
       "\n",
       "    .dataframe tbody tr th {\n",
       "        vertical-align: top;\n",
       "    }\n",
       "\n",
       "    .dataframe thead th {\n",
       "        text-align: right;\n",
       "    }\n",
       "</style>\n",
       "<table border=\"1\" class=\"dataframe\">\n",
       "  <thead>\n",
       "    <tr style=\"text-align: right;\">\n",
       "      <th></th>\n",
       "      <th>Name</th>\n",
       "      <th>Hobbies</th>\n",
       "      <th>Height</th>\n",
       "    </tr>\n",
       "  </thead>\n",
       "  <tbody>\n",
       "    <tr>\n",
       "      <th>0</th>\n",
       "      <td>Rahul</td>\n",
       "      <td>Coding</td>\n",
       "      <td>175 cm</td>\n",
       "    </tr>\n",
       "    <tr>\n",
       "      <th>1</th>\n",
       "      <td>Prince</td>\n",
       "      <td>Pc Games</td>\n",
       "      <td>170 cm</td>\n",
       "    </tr>\n",
       "    <tr>\n",
       "      <th>2</th>\n",
       "      <td>Spartan</td>\n",
       "      <td>Judo</td>\n",
       "      <td>165 cm</td>\n",
       "    </tr>\n",
       "  </tbody>\n",
       "</table>\n",
       "</div>"
      ],
      "text/plain": [
       "      Name   Hobbies  Height\n",
       "0    Rahul    Coding  175 cm\n",
       "1   Prince  Pc Games  170 cm\n",
       "2  Spartan      Judo  165 cm"
      ]
     },
     "execution_count": 9,
     "metadata": {},
     "output_type": "execute_result"
    }
   ],
   "source": [
    "information"
   ]
  },
  {
   "cell_type": "code",
   "execution_count": 10,
   "id": "ef7431a5",
   "metadata": {},
   "outputs": [
    {
     "data": {
      "text/plain": [
       "pandas.core.frame.DataFrame"
      ]
     },
     "execution_count": 10,
     "metadata": {},
     "output_type": "execute_result"
    }
   ],
   "source": [
    "type(information)"
   ]
  },
  {
   "cell_type": "code",
   "execution_count": 13,
   "id": "c549f314",
   "metadata": {},
   "outputs": [],
   "source": [
    "information.set_index('Name', inplace = True)"
   ]
  },
  {
   "cell_type": "code",
   "execution_count": 14,
   "id": "cba2cf23",
   "metadata": {},
   "outputs": [
    {
     "data": {
      "text/html": [
       "<div>\n",
       "<style scoped>\n",
       "    .dataframe tbody tr th:only-of-type {\n",
       "        vertical-align: middle;\n",
       "    }\n",
       "\n",
       "    .dataframe tbody tr th {\n",
       "        vertical-align: top;\n",
       "    }\n",
       "\n",
       "    .dataframe thead th {\n",
       "        text-align: right;\n",
       "    }\n",
       "</style>\n",
       "<table border=\"1\" class=\"dataframe\">\n",
       "  <thead>\n",
       "    <tr style=\"text-align: right;\">\n",
       "      <th></th>\n",
       "      <th>Hobbies</th>\n",
       "      <th>Height</th>\n",
       "    </tr>\n",
       "    <tr>\n",
       "      <th>Name</th>\n",
       "      <th></th>\n",
       "      <th></th>\n",
       "    </tr>\n",
       "  </thead>\n",
       "  <tbody>\n",
       "    <tr>\n",
       "      <th>Rahul</th>\n",
       "      <td>Coding</td>\n",
       "      <td>175 cm</td>\n",
       "    </tr>\n",
       "    <tr>\n",
       "      <th>Prince</th>\n",
       "      <td>Pc Games</td>\n",
       "      <td>170 cm</td>\n",
       "    </tr>\n",
       "    <tr>\n",
       "      <th>Spartan</th>\n",
       "      <td>Judo</td>\n",
       "      <td>165 cm</td>\n",
       "    </tr>\n",
       "  </tbody>\n",
       "</table>\n",
       "</div>"
      ],
      "text/plain": [
       "          Hobbies  Height\n",
       "Name                     \n",
       "Rahul      Coding  175 cm\n",
       "Prince   Pc Games  170 cm\n",
       "Spartan      Judo  165 cm"
      ]
     },
     "execution_count": 14,
     "metadata": {},
     "output_type": "execute_result"
    }
   ],
   "source": [
    "information"
   ]
  },
  {
   "cell_type": "markdown",
   "id": "589f9960",
   "metadata": {},
   "source": [
    "## When data is arranged in Rows:"
   ]
  },
  {
   "cell_type": "code",
   "execution_count": 15,
   "id": "484b15c9",
   "metadata": {},
   "outputs": [],
   "source": [
    "row1 = ['Rahul', 'Coding', '175 cm']\n",
    "row2 = ['Jack', 'pc games', '170 cm']\n",
    "row3 = ['Harry', 'broom', '165 cm']"
   ]
  },
  {
   "cell_type": "code",
   "execution_count": 16,
   "id": "e5e00e19",
   "metadata": {},
   "outputs": [],
   "source": [
    "info2 = pd.DataFrame(data = [row1, row2, row3], columns = ['Names', 'Hobbies', 'Height'])"
   ]
  },
  {
   "cell_type": "code",
   "execution_count": 17,
   "id": "cd5ebf78",
   "metadata": {},
   "outputs": [
    {
     "data": {
      "text/html": [
       "<div>\n",
       "<style scoped>\n",
       "    .dataframe tbody tr th:only-of-type {\n",
       "        vertical-align: middle;\n",
       "    }\n",
       "\n",
       "    .dataframe tbody tr th {\n",
       "        vertical-align: top;\n",
       "    }\n",
       "\n",
       "    .dataframe thead th {\n",
       "        text-align: right;\n",
       "    }\n",
       "</style>\n",
       "<table border=\"1\" class=\"dataframe\">\n",
       "  <thead>\n",
       "    <tr style=\"text-align: right;\">\n",
       "      <th></th>\n",
       "      <th>Names</th>\n",
       "      <th>Hobbies</th>\n",
       "      <th>Height</th>\n",
       "    </tr>\n",
       "  </thead>\n",
       "  <tbody>\n",
       "    <tr>\n",
       "      <th>0</th>\n",
       "      <td>Rahul</td>\n",
       "      <td>Coding</td>\n",
       "      <td>175 cm</td>\n",
       "    </tr>\n",
       "    <tr>\n",
       "      <th>1</th>\n",
       "      <td>Jack</td>\n",
       "      <td>pc games</td>\n",
       "      <td>170 cm</td>\n",
       "    </tr>\n",
       "    <tr>\n",
       "      <th>2</th>\n",
       "      <td>Harry</td>\n",
       "      <td>broom</td>\n",
       "      <td>165 cm</td>\n",
       "    </tr>\n",
       "  </tbody>\n",
       "</table>\n",
       "</div>"
      ],
      "text/plain": [
       "   Names   Hobbies  Height\n",
       "0  Rahul    Coding  175 cm\n",
       "1   Jack  pc games  170 cm\n",
       "2  Harry     broom  165 cm"
      ]
     },
     "execution_count": 17,
     "metadata": {},
     "output_type": "execute_result"
    }
   ],
   "source": [
    "info2"
   ]
  },
  {
   "cell_type": "code",
   "execution_count": 19,
   "id": "55c9f607",
   "metadata": {},
   "outputs": [],
   "source": [
    "info2.set_index('Names', inplace = True)"
   ]
  },
  {
   "cell_type": "code",
   "execution_count": 20,
   "id": "c697bd57",
   "metadata": {},
   "outputs": [
    {
     "data": {
      "text/html": [
       "<div>\n",
       "<style scoped>\n",
       "    .dataframe tbody tr th:only-of-type {\n",
       "        vertical-align: middle;\n",
       "    }\n",
       "\n",
       "    .dataframe tbody tr th {\n",
       "        vertical-align: top;\n",
       "    }\n",
       "\n",
       "    .dataframe thead th {\n",
       "        text-align: right;\n",
       "    }\n",
       "</style>\n",
       "<table border=\"1\" class=\"dataframe\">\n",
       "  <thead>\n",
       "    <tr style=\"text-align: right;\">\n",
       "      <th></th>\n",
       "      <th>Hobbies</th>\n",
       "      <th>Height</th>\n",
       "    </tr>\n",
       "    <tr>\n",
       "      <th>Names</th>\n",
       "      <th></th>\n",
       "      <th></th>\n",
       "    </tr>\n",
       "  </thead>\n",
       "  <tbody>\n",
       "    <tr>\n",
       "      <th>Rahul</th>\n",
       "      <td>Coding</td>\n",
       "      <td>175 cm</td>\n",
       "    </tr>\n",
       "    <tr>\n",
       "      <th>Jack</th>\n",
       "      <td>pc games</td>\n",
       "      <td>170 cm</td>\n",
       "    </tr>\n",
       "    <tr>\n",
       "      <th>Harry</th>\n",
       "      <td>broom</td>\n",
       "      <td>165 cm</td>\n",
       "    </tr>\n",
       "  </tbody>\n",
       "</table>\n",
       "</div>"
      ],
      "text/plain": [
       "        Hobbies  Height\n",
       "Names                  \n",
       "Rahul    Coding  175 cm\n",
       "Jack   pc games  170 cm\n",
       "Harry     broom  165 cm"
      ]
     },
     "execution_count": 20,
     "metadata": {},
     "output_type": "execute_result"
    }
   ],
   "source": [
    "info2"
   ]
  },
  {
   "cell_type": "code",
   "execution_count": 18,
   "id": "905a86df",
   "metadata": {},
   "outputs": [],
   "source": [
    "# This is how we can create our dataFrame using either arranging columns or rows...."
   ]
  },
  {
   "cell_type": "code",
   "execution_count": 21,
   "id": "0afbdc77",
   "metadata": {},
   "outputs": [],
   "source": [
    "# There is still other way to create DataFrame:\n",
    "# lets use Series:\n",
    "ser = pd.Series(data = hobbies)"
   ]
  },
  {
   "cell_type": "code",
   "execution_count": 23,
   "id": "4b2d42c0",
   "metadata": {},
   "outputs": [
    {
     "data": {
      "text/plain": [
       "0      Coding\n",
       "1    Pc Games\n",
       "2        Judo\n",
       "dtype: object"
      ]
     },
     "execution_count": 23,
     "metadata": {},
     "output_type": "execute_result"
    }
   ],
   "source": [
    "ser"
   ]
  },
  {
   "cell_type": "code",
   "execution_count": 24,
   "id": "7504be75",
   "metadata": {},
   "outputs": [
    {
     "data": {
      "text/plain": [
       "pandas.core.series.Series"
      ]
     },
     "execution_count": 24,
     "metadata": {},
     "output_type": "execute_result"
    }
   ],
   "source": [
    "type(ser)"
   ]
  },
  {
   "cell_type": "code",
   "execution_count": 31,
   "id": "85ee0f81",
   "metadata": {},
   "outputs": [],
   "source": [
    "# Now lets convert this series to DataFrame:\n",
    "ser_to_df = pd.Series(data = hobbies, name = 'Hobbies').to_frame()"
   ]
  },
  {
   "cell_type": "code",
   "execution_count": 32,
   "id": "d265603d",
   "metadata": {},
   "outputs": [
    {
     "data": {
      "text/html": [
       "<div>\n",
       "<style scoped>\n",
       "    .dataframe tbody tr th:only-of-type {\n",
       "        vertical-align: middle;\n",
       "    }\n",
       "\n",
       "    .dataframe tbody tr th {\n",
       "        vertical-align: top;\n",
       "    }\n",
       "\n",
       "    .dataframe thead th {\n",
       "        text-align: right;\n",
       "    }\n",
       "</style>\n",
       "<table border=\"1\" class=\"dataframe\">\n",
       "  <thead>\n",
       "    <tr style=\"text-align: right;\">\n",
       "      <th></th>\n",
       "      <th>Hobbies</th>\n",
       "    </tr>\n",
       "  </thead>\n",
       "  <tbody>\n",
       "    <tr>\n",
       "      <th>0</th>\n",
       "      <td>Coding</td>\n",
       "    </tr>\n",
       "    <tr>\n",
       "      <th>1</th>\n",
       "      <td>Pc Games</td>\n",
       "    </tr>\n",
       "    <tr>\n",
       "      <th>2</th>\n",
       "      <td>Judo</td>\n",
       "    </tr>\n",
       "  </tbody>\n",
       "</table>\n",
       "</div>"
      ],
      "text/plain": [
       "    Hobbies\n",
       "0    Coding\n",
       "1  Pc Games\n",
       "2      Judo"
      ]
     },
     "execution_count": 32,
     "metadata": {},
     "output_type": "execute_result"
    }
   ],
   "source": [
    "ser_to_df"
   ]
  },
  {
   "cell_type": "code",
   "execution_count": 33,
   "id": "6fca7f9e",
   "metadata": {},
   "outputs": [
    {
     "data": {
      "text/plain": [
       "pandas.core.frame.DataFrame"
      ]
     },
     "execution_count": 33,
     "metadata": {},
     "output_type": "execute_result"
    }
   ],
   "source": [
    "type(ser_to_df)"
   ]
  },
  {
   "cell_type": "code",
   "execution_count": 37,
   "id": "2fb15740",
   "metadata": {},
   "outputs": [],
   "source": [
    "# This is how we can add columns:\n",
    "ser_to_df['Height'] = height"
   ]
  },
  {
   "cell_type": "code",
   "execution_count": 38,
   "id": "f56fb330",
   "metadata": {},
   "outputs": [
    {
     "data": {
      "text/html": [
       "<div>\n",
       "<style scoped>\n",
       "    .dataframe tbody tr th:only-of-type {\n",
       "        vertical-align: middle;\n",
       "    }\n",
       "\n",
       "    .dataframe tbody tr th {\n",
       "        vertical-align: top;\n",
       "    }\n",
       "\n",
       "    .dataframe thead th {\n",
       "        text-align: right;\n",
       "    }\n",
       "</style>\n",
       "<table border=\"1\" class=\"dataframe\">\n",
       "  <thead>\n",
       "    <tr style=\"text-align: right;\">\n",
       "      <th></th>\n",
       "      <th>Hobbies</th>\n",
       "      <th>Height</th>\n",
       "    </tr>\n",
       "  </thead>\n",
       "  <tbody>\n",
       "    <tr>\n",
       "      <th>0</th>\n",
       "      <td>Coding</td>\n",
       "      <td>175 cm</td>\n",
       "    </tr>\n",
       "    <tr>\n",
       "      <th>1</th>\n",
       "      <td>Pc Games</td>\n",
       "      <td>170 cm</td>\n",
       "    </tr>\n",
       "    <tr>\n",
       "      <th>2</th>\n",
       "      <td>Judo</td>\n",
       "      <td>165 cm</td>\n",
       "    </tr>\n",
       "  </tbody>\n",
       "</table>\n",
       "</div>"
      ],
      "text/plain": [
       "    Hobbies  Height\n",
       "0    Coding  175 cm\n",
       "1  Pc Games  170 cm\n",
       "2      Judo  165 cm"
      ]
     },
     "execution_count": 38,
     "metadata": {},
     "output_type": "execute_result"
    }
   ],
   "source": [
    "ser_to_df"
   ]
  },
  {
   "cell_type": "markdown",
   "id": "4339f6c9",
   "metadata": {},
   "source": [
    "### Source: https://www.youtube.com/playlist?list=PLwgFb6VsUj_nFnLLn3M8iacrhDyXqE4N9"
   ]
  },
  {
   "cell_type": "code",
   "execution_count": null,
   "id": "1bb9ffcd",
   "metadata": {},
   "outputs": [],
   "source": []
  }
 ],
 "metadata": {
  "kernelspec": {
   "display_name": "Python 3",
   "language": "python",
   "name": "python3"
  },
  "language_info": {
   "codemirror_mode": {
    "name": "ipython",
    "version": 3
   },
   "file_extension": ".py",
   "mimetype": "text/x-python",
   "name": "python",
   "nbconvert_exporter": "python",
   "pygments_lexer": "ipython3",
   "version": "3.8.8"
  }
 },
 "nbformat": 4,
 "nbformat_minor": 5
}
