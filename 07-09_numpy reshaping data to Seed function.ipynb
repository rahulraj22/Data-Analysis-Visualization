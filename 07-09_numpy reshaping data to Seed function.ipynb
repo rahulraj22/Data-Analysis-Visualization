{
 "cells": [
  {
   "cell_type": "markdown",
   "id": "f4bea474",
   "metadata": {},
   "source": [
    "# 1. Reshaping of the data"
   ]
  },
  {
   "cell_type": "code",
   "execution_count": 8,
   "id": "7fb0b2e0",
   "metadata": {},
   "outputs": [],
   "source": [
    "import numpy as np"
   ]
  },
  {
   "cell_type": "code",
   "execution_count": 15,
   "id": "c887b42d",
   "metadata": {},
   "outputs": [],
   "source": [
    "arr = np.random.randint(1, 100, 20)\n",
    "arr = arr.reshape(2,10)"
   ]
  },
  {
   "cell_type": "code",
   "execution_count": 16,
   "id": "1c1b87c5",
   "metadata": {},
   "outputs": [
    {
     "data": {
      "text/plain": [
       "array([[15, 47, 91, 59, 66,  2, 97, 30, 28, 62],\n",
       "       [34, 97, 92, 64, 48, 89, 53, 98, 88, 92]])"
      ]
     },
     "execution_count": 16,
     "metadata": {},
     "output_type": "execute_result"
    }
   ],
   "source": [
    "arr"
   ]
  },
  {
   "cell_type": "code",
   "execution_count": 17,
   "id": "2b183ec7",
   "metadata": {},
   "outputs": [
    {
     "data": {
      "text/plain": [
       "2"
      ]
     },
     "execution_count": 17,
     "metadata": {},
     "output_type": "execute_result"
    }
   ],
   "source": [
    "arr.ndim"
   ]
  },
  {
   "cell_type": "markdown",
   "id": "3ecb789f",
   "metadata": {},
   "source": [
    "#### ouput as 1 shows that its a 1d array"
   ]
  },
  {
   "cell_type": "code",
   "execution_count": 18,
   "id": "d8c4146b",
   "metadata": {},
   "outputs": [
    {
     "data": {
      "text/plain": [
       "(2, 10)"
      ]
     },
     "execution_count": 18,
     "metadata": {},
     "output_type": "execute_result"
    }
   ],
   "source": [
    "arr.shape"
   ]
  },
  {
   "cell_type": "markdown",
   "id": "eed8f91e",
   "metadata": {},
   "source": [
    "# reshape ke ander wali value ka product 50 aa rha hai, aisa har case me hona chahiye. for eg, 10 x 5 = 50"
   ]
  },
  {
   "cell_type": "code",
   "execution_count": 19,
   "id": "b149589b",
   "metadata": {},
   "outputs": [],
   "source": [
    "arr1 = np.random.randint(1, 100, 50)\n",
    "arr1 = arr1.reshape(10, 5)"
   ]
  },
  {
   "cell_type": "code",
   "execution_count": 20,
   "id": "7d5ae1d8",
   "metadata": {},
   "outputs": [
    {
     "data": {
      "text/plain": [
       "array([[69, 42, 97, 60,  6],\n",
       "       [59, 27, 59, 17, 38],\n",
       "       [40, 22, 19, 90, 29],\n",
       "       [12, 72, 17, 26,  3],\n",
       "       [72,  7, 34, 97, 62],\n",
       "       [73, 57, 86, 17, 38],\n",
       "       [31, 99, 76, 69, 12],\n",
       "       [51, 28, 71, 66, 89],\n",
       "       [43, 29, 33, 58, 31],\n",
       "       [99, 46, 71, 75, 84]])"
      ]
     },
     "execution_count": 20,
     "metadata": {},
     "output_type": "execute_result"
    }
   ],
   "source": [
    "arr1"
   ]
  },
  {
   "cell_type": "code",
   "execution_count": 23,
   "id": "b8a8f5e6",
   "metadata": {},
   "outputs": [],
   "source": [
    "arr2 = np.random.randint(1, 100, 50)\n",
    "arr2 = arr1.reshape(2, 5, 5)"
   ]
  },
  {
   "cell_type": "code",
   "execution_count": 24,
   "id": "52628d95",
   "metadata": {},
   "outputs": [
    {
     "data": {
      "text/plain": [
       "array([[[69, 42, 97, 60,  6],\n",
       "        [59, 27, 59, 17, 38],\n",
       "        [40, 22, 19, 90, 29],\n",
       "        [12, 72, 17, 26,  3],\n",
       "        [72,  7, 34, 97, 62]],\n",
       "\n",
       "       [[73, 57, 86, 17, 38],\n",
       "        [31, 99, 76, 69, 12],\n",
       "        [51, 28, 71, 66, 89],\n",
       "        [43, 29, 33, 58, 31],\n",
       "        [99, 46, 71, 75, 84]]])"
      ]
     },
     "execution_count": 24,
     "metadata": {},
     "output_type": "execute_result"
    }
   ],
   "source": [
    "arr2"
   ]
  },
  {
   "cell_type": "markdown",
   "id": "69ef89a8",
   "metadata": {},
   "source": [
    "#  Tutorial - 8 : NumPy: -1 in reshape"
   ]
  },
  {
   "cell_type": "code",
   "execution_count": 25,
   "id": "38451c74",
   "metadata": {},
   "outputs": [],
   "source": [
    "Arr = np.arange(1, 11)"
   ]
  },
  {
   "cell_type": "code",
   "execution_count": 26,
   "id": "89290ae5",
   "metadata": {},
   "outputs": [
    {
     "data": {
      "text/plain": [
       "array([ 1,  2,  3,  4,  5,  6,  7,  8,  9, 10])"
      ]
     },
     "execution_count": 26,
     "metadata": {},
     "output_type": "execute_result"
    }
   ],
   "source": [
    "Arr"
   ]
  },
  {
   "cell_type": "code",
   "execution_count": 27,
   "id": "a7885004",
   "metadata": {},
   "outputs": [
    {
     "data": {
      "text/plain": [
       "array([[ 1,  2,  3,  4,  5],\n",
       "       [ 6,  7,  8,  9, 10]])"
      ]
     },
     "execution_count": 27,
     "metadata": {},
     "output_type": "execute_result"
    }
   ],
   "source": [
    "Arr.reshape(2,5)"
   ]
  },
  {
   "cell_type": "markdown",
   "id": "ecd8b071",
   "metadata": {},
   "source": [
    "# On putting -1 we got the same results... becoz python checks the product i.e here is 10, if its not coming then its automatically checkout.."
   ]
  },
  {
   "cell_type": "code",
   "execution_count": 29,
   "id": "cf0fd355",
   "metadata": {},
   "outputs": [
    {
     "data": {
      "text/plain": [
       "array([[ 1,  2],\n",
       "       [ 3,  4],\n",
       "       [ 5,  6],\n",
       "       [ 7,  8],\n",
       "       [ 9, 10]])"
      ]
     },
     "execution_count": 29,
     "metadata": {},
     "output_type": "execute_result"
    }
   ],
   "source": [
    "Arr.reshape(5, -1)"
   ]
  },
  {
   "cell_type": "code",
   "execution_count": 30,
   "id": "6a10f329",
   "metadata": {},
   "outputs": [],
   "source": [
    "Arr1 = np.arange(1, 111)"
   ]
  },
  {
   "cell_type": "code",
   "execution_count": 31,
   "id": "a3b54eab",
   "metadata": {},
   "outputs": [
    {
     "data": {
      "text/plain": [
       "array([  1,   2,   3,   4,   5,   6,   7,   8,   9,  10,  11,  12,  13,\n",
       "        14,  15,  16,  17,  18,  19,  20,  21,  22,  23,  24,  25,  26,\n",
       "        27,  28,  29,  30,  31,  32,  33,  34,  35,  36,  37,  38,  39,\n",
       "        40,  41,  42,  43,  44,  45,  46,  47,  48,  49,  50,  51,  52,\n",
       "        53,  54,  55,  56,  57,  58,  59,  60,  61,  62,  63,  64,  65,\n",
       "        66,  67,  68,  69,  70,  71,  72,  73,  74,  75,  76,  77,  78,\n",
       "        79,  80,  81,  82,  83,  84,  85,  86,  87,  88,  89,  90,  91,\n",
       "        92,  93,  94,  95,  96,  97,  98,  99, 100, 101, 102, 103, 104,\n",
       "       105, 106, 107, 108, 109, 110])"
      ]
     },
     "execution_count": 31,
     "metadata": {},
     "output_type": "execute_result"
    }
   ],
   "source": [
    "Arr1"
   ]
  },
  {
   "cell_type": "code",
   "execution_count": 32,
   "id": "08fe41eb",
   "metadata": {},
   "outputs": [
    {
     "data": {
      "text/plain": [
       "110"
      ]
     },
     "execution_count": 32,
     "metadata": {},
     "output_type": "execute_result"
    }
   ],
   "source": [
    "Arr1.size"
   ]
  },
  {
   "cell_type": "code",
   "execution_count": 33,
   "id": "80625a77",
   "metadata": {},
   "outputs": [
    {
     "data": {
      "text/plain": [
       "array([[  1,   2,   3,   4,   5,   6,   7,   8,   9,  10,  11,  12,  13,\n",
       "         14,  15,  16,  17,  18,  19,  20,  21,  22],\n",
       "       [ 23,  24,  25,  26,  27,  28,  29,  30,  31,  32,  33,  34,  35,\n",
       "         36,  37,  38,  39,  40,  41,  42,  43,  44],\n",
       "       [ 45,  46,  47,  48,  49,  50,  51,  52,  53,  54,  55,  56,  57,\n",
       "         58,  59,  60,  61,  62,  63,  64,  65,  66],\n",
       "       [ 67,  68,  69,  70,  71,  72,  73,  74,  75,  76,  77,  78,  79,\n",
       "         80,  81,  82,  83,  84,  85,  86,  87,  88],\n",
       "       [ 89,  90,  91,  92,  93,  94,  95,  96,  97,  98,  99, 100, 101,\n",
       "        102, 103, 104, 105, 106, 107, 108, 109, 110]])"
      ]
     },
     "execution_count": 33,
     "metadata": {},
     "output_type": "execute_result"
    }
   ],
   "source": [
    "Arr1.reshape(5, -1)"
   ]
  },
  {
   "cell_type": "code",
   "execution_count": 34,
   "id": "7089d91d",
   "metadata": {},
   "outputs": [
    {
     "data": {
      "text/plain": [
       "array([[  1,   2,   3,   4,   5],\n",
       "       [  6,   7,   8,   9,  10],\n",
       "       [ 11,  12,  13,  14,  15],\n",
       "       [ 16,  17,  18,  19,  20],\n",
       "       [ 21,  22,  23,  24,  25],\n",
       "       [ 26,  27,  28,  29,  30],\n",
       "       [ 31,  32,  33,  34,  35],\n",
       "       [ 36,  37,  38,  39,  40],\n",
       "       [ 41,  42,  43,  44,  45],\n",
       "       [ 46,  47,  48,  49,  50],\n",
       "       [ 51,  52,  53,  54,  55],\n",
       "       [ 56,  57,  58,  59,  60],\n",
       "       [ 61,  62,  63,  64,  65],\n",
       "       [ 66,  67,  68,  69,  70],\n",
       "       [ 71,  72,  73,  74,  75],\n",
       "       [ 76,  77,  78,  79,  80],\n",
       "       [ 81,  82,  83,  84,  85],\n",
       "       [ 86,  87,  88,  89,  90],\n",
       "       [ 91,  92,  93,  94,  95],\n",
       "       [ 96,  97,  98,  99, 100],\n",
       "       [101, 102, 103, 104, 105],\n",
       "       [106, 107, 108, 109, 110]])"
      ]
     },
     "execution_count": 34,
     "metadata": {},
     "output_type": "execute_result"
    }
   ],
   "source": [
    "Arr1.reshape(-1, 5)"
   ]
  },
  {
   "cell_type": "markdown",
   "id": "5258d286",
   "metadata": {},
   "source": [
    "# Tutorial-9 : Seed function"
   ]
  },
  {
   "cell_type": "code",
   "execution_count": 44,
   "id": "2687e45c",
   "metadata": {},
   "outputs": [
    {
     "data": {
      "text/plain": [
       "array([67, 93, 99, 18, 84, 58, 87, 98, 97, 48])"
      ]
     },
     "execution_count": 44,
     "metadata": {},
     "output_type": "execute_result"
    }
   ],
   "source": [
    "# np.random.seed(123) \n",
    "# for getting the fixed random numbers by passing the some seed value\n",
    "np.random.seed(123)\n",
    "Ar = np.random.randint(1, 101, 10)\n",
    "Ar"
   ]
  },
  {
   "cell_type": "code",
   "execution_count": 45,
   "id": "0e0a1390",
   "metadata": {},
   "outputs": [
    {
     "data": {
      "text/plain": [
       "10"
      ]
     },
     "execution_count": 45,
     "metadata": {},
     "output_type": "execute_result"
    }
   ],
   "source": [
    "Ar.size"
   ]
  },
  {
   "cell_type": "markdown",
   "id": "723a4a24",
   "metadata": {},
   "source": [
    "#  here, size is not a function but its an attribute for finding size of array"
   ]
  },
  {
   "cell_type": "code",
   "execution_count": 48,
   "id": "0747add2",
   "metadata": {},
   "outputs": [
    {
     "data": {
      "text/plain": [
       "array([[67, 93, 99, 18, 84],\n",
       "       [58, 87, 98, 97, 48],\n",
       "       [74, 33, 47, 97, 26]])"
      ]
     },
     "execution_count": 48,
     "metadata": {},
     "output_type": "execute_result"
    }
   ],
   "source": [
    "np.random.seed(123)\n",
    "Arr1_reshape = np.random.randint(1, 101, 15).reshape(3,5)\n",
    "Arr1_reshape"
   ]
  },
  {
   "cell_type": "code",
   "execution_count": null,
   "id": "00077394",
   "metadata": {},
   "outputs": [],
   "source": []
  }
 ],
 "metadata": {
  "kernelspec": {
   "display_name": "Python 3",
   "language": "python",
   "name": "python3"
  },
  "language_info": {
   "codemirror_mode": {
    "name": "ipython",
    "version": 3
   },
   "file_extension": ".py",
   "mimetype": "text/x-python",
   "name": "python",
   "nbconvert_exporter": "python",
   "pygments_lexer": "ipython3",
   "version": "3.8.8"
  }
 },
 "nbformat": 4,
 "nbformat_minor": 5
}
