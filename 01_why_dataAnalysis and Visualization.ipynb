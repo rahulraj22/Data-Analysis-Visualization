{
 "cells": [
  {
   "cell_type": "markdown",
   "id": "e9015172",
   "metadata": {},
   "source": [
    "# Data Analysis & Visualization"
   ]
  },
  {
   "cell_type": "markdown",
   "id": "c3110324",
   "metadata": {},
   "source": [
    "## Tut - 1 :"
   ]
  },
  {
   "cell_type": "code",
   "execution_count": 17,
   "id": "f41b9e0b",
   "metadata": {},
   "outputs": [],
   "source": [
    "# Data Analysis and Visualization : It is the way by which we are able to analyse and visualize the data according our needs\n",
    "# using python libraries like numpy(for dealing with matrix calculations, arrays, etc.), \n",
    "# pandas(for utilizing multi-dimensional array), matplotlib(for creating graphs our of two types of data).\n",
    "\n",
    "# After learning about this libraries in python we will able deal better in the field of ML(Machine Learning),\n",
    "# DL(Deep Learning), NN(Neural Network), and AI(Artificial Intelligence).\n",
    "\n",
    "# So, first we will download : Anaconda (from internet)"
   ]
  },
  {
   "cell_type": "code",
   "execution_count": 19,
   "id": "17844280",
   "metadata": {},
   "outputs": [],
   "source": [
    "# refer : https://docs.google.com/document/d/1SA7uNJqoxDRicZ-En1sgZq22xLKMKOIAGoCRqI6MFAI/edit?usp=sharing"
   ]
  },
  {
   "cell_type": "code",
   "execution_count": null,
   "id": "fb5a9b08",
   "metadata": {},
   "outputs": [],
   "source": []
  }
 ],
 "metadata": {
  "kernelspec": {
   "display_name": "Python 3",
   "language": "python",
   "name": "python3"
  },
  "language_info": {
   "codemirror_mode": {
    "name": "ipython",
    "version": 3
   },
   "file_extension": ".py",
   "mimetype": "text/x-python",
   "name": "python",
   "nbconvert_exporter": "python",
   "pygments_lexer": "ipython3",
   "version": "3.8.8"
  }
 },
 "nbformat": 4,
 "nbformat_minor": 5
}
