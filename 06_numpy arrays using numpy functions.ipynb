{
 "cells": [
  {
   "cell_type": "code",
   "execution_count": 1,
   "id": "2d6816a8",
   "metadata": {},
   "outputs": [],
   "source": [
    "import numpy as np"
   ]
  },
  {
   "cell_type": "markdown",
   "id": "e2b71edc",
   "metadata": {},
   "source": [
    "#  #zeros, # ones, # eye, #diag, # randint, # rand, # randn"
   ]
  },
  {
   "cell_type": "markdown",
   "id": "ac07884f",
   "metadata": {},
   "source": [
    "# 1-d array define kiya hai idher"
   ]
  },
  {
   "cell_type": "code",
   "execution_count": 11,
   "id": "38f4eac4",
   "metadata": {},
   "outputs": [
    {
     "data": {
      "text/plain": [
       "array([0., 0., 0., 0., 0.])"
      ]
     },
     "execution_count": 11,
     "metadata": {},
     "output_type": "execute_result"
    }
   ],
   "source": [
    "arr = np.zeros(5)\n",
    "arr"
   ]
  },
  {
   "cell_type": "markdown",
   "id": "37eb7aa6",
   "metadata": {},
   "source": [
    "# lets define the tuple:"
   ]
  },
  {
   "cell_type": "code",
   "execution_count": 12,
   "id": "a26ad770",
   "metadata": {},
   "outputs": [
    {
     "data": {
      "text/plain": [
       "array([[0., 0., 0.],\n",
       "       [0., 0., 0.]])"
      ]
     },
     "execution_count": 12,
     "metadata": {},
     "output_type": "execute_result"
    }
   ],
   "source": [
    "arr0 = np.zeros((2,3))\n",
    "arr0"
   ]
  },
  {
   "cell_type": "markdown",
   "id": "21228dcd",
   "metadata": {},
   "source": [
    "# this above ouput shown is the tuple of 2x3(order)"
   ]
  },
  {
   "cell_type": "code",
   "execution_count": 13,
   "id": "79c88a31",
   "metadata": {},
   "outputs": [
    {
     "data": {
      "text/plain": [
       "array([[1., 1., 1.],\n",
       "       [1., 1., 1.]])"
      ]
     },
     "execution_count": 13,
     "metadata": {},
     "output_type": "execute_result"
    }
   ],
   "source": [
    "arr1 = np.ones((2,3))\n",
    "arr1"
   ]
  },
  {
   "cell_type": "markdown",
   "id": "00f17821",
   "metadata": {},
   "source": [
    "# eye function begin:-\n",
    "# It creates the 2d matrix whose diagonal elements will be 1 and rest will be 0"
   ]
  },
  {
   "cell_type": "code",
   "execution_count": 14,
   "id": "ffefe147",
   "metadata": {},
   "outputs": [
    {
     "data": {
      "text/plain": [
       "array([[1., 0., 0., 0.],\n",
       "       [0., 1., 0., 0.],\n",
       "       [0., 0., 1., 0.],\n",
       "       [0., 0., 0., 1.]])"
      ]
     },
     "execution_count": 14,
     "metadata": {},
     "output_type": "execute_result"
    }
   ],
   "source": [
    "arr2 = np.eye(4)\n",
    "arr2"
   ]
  },
  {
   "cell_type": "code",
   "execution_count": 15,
   "id": "39874437",
   "metadata": {},
   "outputs": [
    {
     "data": {
      "text/plain": [
       "array([[1., 0., 0., 0.],\n",
       "       [0., 1., 0., 0.],\n",
       "       [0., 0., 1., 0.]])"
      ]
     },
     "execution_count": 15,
     "metadata": {},
     "output_type": "execute_result"
    }
   ],
   "source": [
    "arr34 = np.eye(3,4)\n",
    "arr34"
   ]
  },
  {
   "cell_type": "markdown",
   "id": "6a7c0fc0",
   "metadata": {},
   "source": [
    "# diag function begins :-\n",
    "### --> It creates matrix with diagonal values as passed in it.\n",
    "### --> for eg. np.diag([1,2,3,4]) will creat the diagonal with this numbers and rest will bw zero"
   ]
  },
  {
   "cell_type": "code",
   "execution_count": 16,
   "id": "d5d18a99",
   "metadata": {},
   "outputs": [
    {
     "data": {
      "text/plain": [
       "array([[1, 0, 0, 0],\n",
       "       [0, 2, 0, 0],\n",
       "       [0, 0, 3, 0],\n",
       "       [0, 0, 0, 4]])"
      ]
     },
     "execution_count": 16,
     "metadata": {},
     "output_type": "execute_result"
    }
   ],
   "source": [
    "arr3 = np.diag([1,2,3,4])\n",
    "arr3"
   ]
  },
  {
   "cell_type": "markdown",
   "id": "eb928ccd",
   "metadata": {},
   "source": [
    "# In order to know the diagonal elements of any matrix then :\n",
    "# np.diag(matrix)  this will give the diagonal elements of the matrix"
   ]
  },
  {
   "cell_type": "code",
   "execution_count": 17,
   "id": "4fa0ed8a",
   "metadata": {},
   "outputs": [
    {
     "data": {
      "text/plain": [
       "array([1, 2, 3, 4])"
      ]
     },
     "execution_count": 17,
     "metadata": {},
     "output_type": "execute_result"
    }
   ],
   "source": [
    "diag_elements = np.diag(arr3)\n",
    "diag_elements"
   ]
  },
  {
   "cell_type": "markdown",
   "id": "83519e16",
   "metadata": {},
   "source": [
    "# Generate the random numbers from one interval to another :\n",
    "### As shown below: (first_interval, last_interval, no_of_randomNumbers_needed)"
   ]
  },
  {
   "cell_type": "code",
   "execution_count": 18,
   "id": "b73e423f",
   "metadata": {},
   "outputs": [
    {
     "data": {
      "text/plain": [
       "array([ 1, 14,  7,  3, 13])"
      ]
     },
     "execution_count": 18,
     "metadata": {},
     "output_type": "execute_result"
    }
   ],
   "source": [
    "rand_arr = np.random.randint(1, 15, 5)\n",
    "rand_arr"
   ]
  },
  {
   "cell_type": "code",
   "execution_count": 20,
   "id": "1558ad74",
   "metadata": {},
   "outputs": [
    {
     "data": {
      "text/plain": [
       "array([0.09356948, 0.3258859 , 0.40818087, 0.38762966, 0.1686861 ,\n",
       "       0.44968462, 0.61364467, 0.12524368, 0.68520523, 0.45306575])"
      ]
     },
     "execution_count": 20,
     "metadata": {},
     "output_type": "execute_result"
    }
   ],
   "source": [
    "rand_arr_from_0to1 = np.random.rand(10)\n",
    "rand_arr_from_0to1"
   ]
  },
  {
   "cell_type": "markdown",
   "id": "a0019f88",
   "metadata": {},
   "source": [
    "# ye jo random value generate ho rha hai vo uniform distribution se aara hai"
   ]
  },
  {
   "cell_type": "code",
   "execution_count": 21,
   "id": "7a09f760",
   "metadata": {},
   "outputs": [
    {
     "data": {
      "text/plain": [
       "array([[0.98607335, 0.01525749, 0.57914978],\n",
       "       [0.42175818, 0.3419711 , 0.50344245]])"
      ]
     },
     "execution_count": 21,
     "metadata": {},
     "output_type": "execute_result"
    }
   ],
   "source": [
    "randArray_matrix = np.random.rand(2,3)\n",
    "randArray_matrix"
   ]
  },
  {
   "cell_type": "markdown",
   "id": "00122f56",
   "metadata": {},
   "source": [
    "# randn() :--\n",
    "### It gives random numbers jo centered hoga 0 ke(comes via Std. Normal distribution)"
   ]
  },
  {
   "cell_type": "code",
   "execution_count": 23,
   "id": "bfcff6ba",
   "metadata": {},
   "outputs": [
    {
     "data": {
      "text/plain": [
       "array([-0.24081198,  0.19291466,  1.01416649, -0.07040233])"
      ]
     },
     "execution_count": 23,
     "metadata": {},
     "output_type": "execute_result"
    }
   ],
   "source": [
    "normal_distribution_randn = np.random.randn(4)\n",
    "normal_distribution_randn"
   ]
  },
  {
   "cell_type": "code",
   "execution_count": 24,
   "id": "02aac2b6",
   "metadata": {},
   "outputs": [
    {
     "data": {
      "text/plain": [
       "array([[-1.12487634,  0.76317691,  0.12451742],\n",
       "       [-1.35365266,  0.47043897, -1.37730374]])"
      ]
     },
     "execution_count": 24,
     "metadata": {},
     "output_type": "execute_result"
    }
   ],
   "source": [
    "randArray_matrix1 = np.random.randn(2,3)\n",
    "randArray_matrix1"
   ]
  },
  {
   "cell_type": "code",
   "execution_count": 31,
   "id": "f01d441a",
   "metadata": {},
   "outputs": [
    {
     "data": {
      "text/plain": [
       "array([-0.13847472,  0.38559038,  0.2868006 , ..., -0.022143  ,\n",
       "       -1.28014122,  0.96505628])"
      ]
     },
     "execution_count": 31,
     "metadata": {},
     "output_type": "execute_result"
    }
   ],
   "source": [
    "random_40_randn = np.random.randn(1500)\n",
    "random_40_randn"
   ]
  },
  {
   "cell_type": "code",
   "execution_count": 32,
   "id": "34424935",
   "metadata": {},
   "outputs": [
    {
     "data": {
      "text/plain": [
       "0.04752019583896318"
      ]
     },
     "execution_count": 32,
     "metadata": {},
     "output_type": "execute_result"
    }
   ],
   "source": [
    "np.mean(random_40_randn)"
   ]
  },
  {
   "cell_type": "code",
   "execution_count": null,
   "id": "0f1fc4aa",
   "metadata": {},
   "outputs": [],
   "source": []
  }
 ],
 "metadata": {
  "kernelspec": {
   "display_name": "Python 3",
   "language": "python",
   "name": "python3"
  },
  "language_info": {
   "codemirror_mode": {
    "name": "ipython",
    "version": 3
   },
   "file_extension": ".py",
   "mimetype": "text/x-python",
   "name": "python",
   "nbconvert_exporter": "python",
   "pygments_lexer": "ipython3",
   "version": "3.8.8"
  }
 },
 "nbformat": 4,
 "nbformat_minor": 5
}
