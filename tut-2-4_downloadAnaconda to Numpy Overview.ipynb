{
 "cells": [
  {
   "cell_type": "code",
   "execution_count": 2,
   "id": "497a02cb",
   "metadata": {},
   "outputs": [],
   "source": [
    "import numpy as np"
   ]
  },
  {
   "cell_type": "markdown",
   "id": "ba37dfcf",
   "metadata": {},
   "source": [
    "## this is heading\n",
    "### This is heading"
   ]
  },
  {
   "cell_type": "code",
   "execution_count": 6,
   "id": "7516a77a",
   "metadata": {},
   "outputs": [],
   "source": [
    "# After dowloading, Anaconda ==> search Anaconda Navigator and Launch ==> Jupyter NoteBook(first time), after this simply \n",
    "# launch jupyter without going to anaconda navigator.\n",
    "# All the libraries needed for any kind of data analysis is already preinstalled in Anaconda.\n",
    "\n",
    "# So, now we will launch Jupyter Notebook, where we will learn about numpy, pandas, matplotlib and many more...."
   ]
  },
  {
   "cell_type": "code",
   "execution_count": 7,
   "id": "50f4be7f",
   "metadata": {},
   "outputs": [],
   "source": [
    "import numpy as np\n",
    "\n",
    "# If above line throws eror, then download this lib. from anaconda prompt(search in your system)"
   ]
  },
  {
   "cell_type": "markdown",
   "id": "b20e5431",
   "metadata": {},
   "source": [
    "## Tut - 3 :"
   ]
  },
  {
   "cell_type": "code",
   "execution_count": 8,
   "id": "9b539f61",
   "metadata": {},
   "outputs": [],
   "source": [
    "# Jupyter has two mode : 1. Command mode(blue box), 2. Edit Mode(coding mode)\n",
    "# Two methods to run the cell: 1. ctrl + enter(to just run the cell) 2. shift + enter(to run the cell and add new cell)\n",
    "# to delete the cell : go to command mode and press letter d 2 times\n",
    "# for Heading(h1, h2, ...in html) : to command mode(using esc) and press 1(for h1) , 2(for h2), etc.\n",
    "# We can also use html code for editing text.\n",
    "# goto help menu --> keyboard shortcuts --> access all shortcuts here\n",
    "# ctrl + d ==> to delete the whole line of code\n",
    "# ctrl + z ==> to undo"
   ]
  },
  {
   "cell_type": "markdown",
   "id": "bdf5ac0e",
   "metadata": {},
   "source": [
    "## Tut - 4 :"
   ]
  },
  {
   "cell_type": "code",
   "execution_count": 9,
   "id": "a4a1e6bf",
   "metadata": {},
   "outputs": [],
   "source": [
    "# Overview of Numpy only covered....more in later tutorial..."
   ]
  },
  {
   "cell_type": "code",
   "execution_count": null,
   "id": "c076a044",
   "metadata": {},
   "outputs": [],
   "source": []
  }
 ],
 "metadata": {
  "kernelspec": {
   "display_name": "Python 3",
   "language": "python",
   "name": "python3"
  },
  "language_info": {
   "codemirror_mode": {
    "name": "ipython",
    "version": 3
   },
   "file_extension": ".py",
   "mimetype": "text/x-python",
   "name": "python",
   "nbconvert_exporter": "python",
   "pygments_lexer": "ipython3",
   "version": "3.8.8"
  }
 },
 "nbformat": 4,
 "nbformat_minor": 5
}
