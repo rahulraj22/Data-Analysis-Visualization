{
 "cells": [
  {
   "cell_type": "markdown",
   "id": "63c19bac",
   "metadata": {},
   "source": [
    "# 1. Create a 2-D array:"
   ]
  },
  {
   "cell_type": "code",
   "execution_count": 4,
   "id": "5313bd2c",
   "metadata": {},
   "outputs": [],
   "source": [
    "import numpy as np"
   ]
  },
  {
   "cell_type": "code",
   "execution_count": 5,
   "id": "14d9409c",
   "metadata": {},
   "outputs": [],
   "source": [
    "matrix = np.array([[5, 10, 15], [20, 25, 30], [35, 40, 45]])"
   ]
  },
  {
   "cell_type": "code",
   "execution_count": 6,
   "id": "aa5dcd00",
   "metadata": {},
   "outputs": [
    {
     "data": {
      "text/plain": [
       "array([[ 5, 10, 15],\n",
       "       [20, 25, 30],\n",
       "       [35, 40, 45]])"
      ]
     },
     "execution_count": 6,
     "metadata": {},
     "output_type": "execute_result"
    }
   ],
   "source": [
    "matrix"
   ]
  },
  {
   "cell_type": "markdown",
   "id": "d0638c35",
   "metadata": {},
   "source": [
    "# 2. Indexing using double bracket notation:"
   ]
  },
  {
   "cell_type": "code",
   "execution_count": 7,
   "id": "3db6b082",
   "metadata": {},
   "outputs": [
    {
     "data": {
      "text/plain": [
       "10"
      ]
     },
     "execution_count": 7,
     "metadata": {},
     "output_type": "execute_result"
    }
   ],
   "source": [
    "matrix[0][1]"
   ]
  },
  {
   "cell_type": "code",
   "execution_count": 8,
   "id": "edfb1efc",
   "metadata": {},
   "outputs": [
    {
     "data": {
      "text/plain": [
       "25"
      ]
     },
     "execution_count": 8,
     "metadata": {},
     "output_type": "execute_result"
    }
   ],
   "source": [
    "matrix[1][1]"
   ]
  },
  {
   "cell_type": "markdown",
   "id": "b13b43cd",
   "metadata": {},
   "source": [
    "# 3. Indexing using single bracket notation(Recommended)"
   ]
  },
  {
   "cell_type": "code",
   "execution_count": 9,
   "id": "0a1ecd73",
   "metadata": {},
   "outputs": [
    {
     "data": {
      "text/plain": [
       "array([[ 5, 10, 15],\n",
       "       [20, 25, 30],\n",
       "       [35, 40, 45]])"
      ]
     },
     "execution_count": 9,
     "metadata": {},
     "output_type": "execute_result"
    }
   ],
   "source": [
    "matrix"
   ]
  },
  {
   "cell_type": "code",
   "execution_count": 10,
   "id": "5f2d0ebd",
   "metadata": {},
   "outputs": [
    {
     "data": {
      "text/plain": [
       "10"
      ]
     },
     "execution_count": 10,
     "metadata": {},
     "output_type": "execute_result"
    }
   ],
   "source": [
    "matrix[0,1]"
   ]
  },
  {
   "cell_type": "code",
   "execution_count": 11,
   "id": "5ad13366",
   "metadata": {},
   "outputs": [
    {
     "data": {
      "text/plain": [
       "25"
      ]
     },
     "execution_count": 11,
     "metadata": {},
     "output_type": "execute_result"
    }
   ],
   "source": [
    "matrix[1, 1]"
   ]
  },
  {
   "cell_type": "markdown",
   "id": "1a426424",
   "metadata": {},
   "source": [
    "# 4. Slicing using single bracket notation"
   ]
  },
  {
   "cell_type": "code",
   "execution_count": 12,
   "id": "64804f0d",
   "metadata": {},
   "outputs": [
    {
     "data": {
      "text/plain": [
       "array([[ 5, 10, 15],\n",
       "       [20, 25, 30],\n",
       "       [35, 40, 45]])"
      ]
     },
     "execution_count": 12,
     "metadata": {},
     "output_type": "execute_result"
    }
   ],
   "source": [
    "matrix"
   ]
  },
  {
   "cell_type": "code",
   "execution_count": 13,
   "id": "a61a0284",
   "metadata": {},
   "outputs": [],
   "source": [
    "# [[ 5 ,10],\n",
    "#  [20, 25]]"
   ]
  },
  {
   "cell_type": "code",
   "execution_count": 14,
   "id": "8b4c31d5",
   "metadata": {},
   "outputs": [
    {
     "data": {
      "text/plain": [
       "array([[ 5, 10, 15],\n",
       "       [20, 25, 30]])"
      ]
     },
     "execution_count": 14,
     "metadata": {},
     "output_type": "execute_result"
    }
   ],
   "source": [
    "matrix[ : 2]"
   ]
  },
  {
   "cell_type": "code",
   "execution_count": 15,
   "id": "7352d2aa",
   "metadata": {},
   "outputs": [
    {
     "data": {
      "text/plain": [
       "array([[ 5, 10],\n",
       "       [20, 25]])"
      ]
     },
     "execution_count": 15,
     "metadata": {},
     "output_type": "execute_result"
    }
   ],
   "source": [
    "matrix[ : 2, : 2]  # matrix[row kha se start hoga : row kha tak end hoga, col. kha se start hoga : col. kha tak end hoga]"
   ]
  },
  {
   "cell_type": "code",
   "execution_count": 16,
   "id": "673b5168",
   "metadata": {},
   "outputs": [],
   "source": [
    "# [[25, 30],\n",
    "#  [40, 45]]"
   ]
  },
  {
   "cell_type": "code",
   "execution_count": 17,
   "id": "ccf90074",
   "metadata": {},
   "outputs": [
    {
     "data": {
      "text/plain": [
       "array([[25, 30],\n",
       "       [40, 45]])"
      ]
     },
     "execution_count": 17,
     "metadata": {},
     "output_type": "execute_result"
    }
   ],
   "source": [
    "matrix[1 : , 1 : ]"
   ]
  },
  {
   "cell_type": "code",
   "execution_count": 18,
   "id": "3d33ba1c",
   "metadata": {},
   "outputs": [
    {
     "data": {
      "text/plain": [
       "array([[67, 93, 99, 18, 84],\n",
       "       [58, 87, 98, 97, 48],\n",
       "       [74, 33, 47, 97, 26],\n",
       "       [84, 79, 37, 97, 81],\n",
       "       [69, 50, 56, 68,  3]])"
      ]
     },
     "execution_count": 18,
     "metadata": {},
     "output_type": "execute_result"
    }
   ],
   "source": [
    "np.random.seed(123)\n",
    "matrix2 = np.random.randint(1, 101, 25).reshape(5,5)\n",
    "matrix2"
   ]
  },
  {
   "cell_type": "code",
   "execution_count": 19,
   "id": "0c873cd7",
   "metadata": {},
   "outputs": [],
   "source": [
    "# 87, 98, 97\n",
    "# 33, 47, 97\n",
    "# 79, 37, 97"
   ]
  },
  {
   "cell_type": "code",
   "execution_count": 20,
   "id": "d2f28697",
   "metadata": {},
   "outputs": [
    {
     "data": {
      "text/plain": [
       "array([[87, 98],\n",
       "       [33, 47]])"
      ]
     },
     "execution_count": 20,
     "metadata": {},
     "output_type": "execute_result"
    }
   ],
   "source": [
    "matrix2[1 : 3, 1 : 3]"
   ]
  },
  {
   "cell_type": "code",
   "execution_count": 21,
   "id": "3528e68d",
   "metadata": {},
   "outputs": [
    {
     "data": {
      "text/plain": [
       "array([[87, 98, 97],\n",
       "       [33, 47, 97],\n",
       "       [79, 37, 97]])"
      ]
     },
     "execution_count": 21,
     "metadata": {},
     "output_type": "execute_result"
    }
   ],
   "source": [
    "matrix2[1 : 4, 1 : 4]"
   ]
  },
  {
   "cell_type": "code",
   "execution_count": 23,
   "id": "62c8a533",
   "metadata": {},
   "outputs": [
    {
     "data": {
      "text/plain": [
       "array([[47, 97, 26],\n",
       "       [37, 97, 81],\n",
       "       [56, 68,  3]])"
      ]
     },
     "execution_count": 23,
     "metadata": {},
     "output_type": "execute_result"
    }
   ],
   "source": [
    "matrix2[2 : ,2 : ]"
   ]
  },
  {
   "cell_type": "markdown",
   "id": "7334b585",
   "metadata": {},
   "source": [
    "# Tut - 12 begins: Numpy : View Vs Copy"
   ]
  },
  {
   "cell_type": "code",
   "execution_count": 50,
   "id": "d172a4fa",
   "metadata": {},
   "outputs": [],
   "source": [
    "arr = np.array([5, 10, 15, 20, 25, 30])"
   ]
  },
  {
   "cell_type": "markdown",
   "id": "afef07f5",
   "metadata": {},
   "source": [
    "### Here, slice_arr has not copied the array from 2 to 4 i.e new memory has not formed rather actual location where these were stored in the arr has has been viewed here in the slice array. "
   ]
  },
  {
   "cell_type": "code",
   "execution_count": 51,
   "id": "ee1afaab",
   "metadata": {},
   "outputs": [],
   "source": [
    "slice_arr = arr[2:5]"
   ]
  },
  {
   "cell_type": "markdown",
   "id": "6bcd218a",
   "metadata": {},
   "source": [
    "# to make a copy we can use it as..."
   ]
  },
  {
   "cell_type": "code",
   "execution_count": 52,
   "id": "833c04e5",
   "metadata": {},
   "outputs": [
    {
     "data": {
      "text/plain": [
       "array([15, 20, 25])"
      ]
     },
     "execution_count": 52,
     "metadata": {},
     "output_type": "execute_result"
    }
   ],
   "source": [
    "slice_arr"
   ]
  },
  {
   "cell_type": "code",
   "execution_count": 53,
   "id": "c1c7cacb",
   "metadata": {},
   "outputs": [],
   "source": [
    "slice_arr[:] = 0"
   ]
  },
  {
   "cell_type": "code",
   "execution_count": 54,
   "id": "b38e5690",
   "metadata": {},
   "outputs": [
    {
     "data": {
      "text/plain": [
       "array([0, 0, 0])"
      ]
     },
     "execution_count": 54,
     "metadata": {},
     "output_type": "execute_result"
    }
   ],
   "source": [
    "slice_arr"
   ]
  },
  {
   "cell_type": "code",
   "execution_count": 56,
   "id": "9d222802",
   "metadata": {},
   "outputs": [
    {
     "data": {
      "text/plain": [
       "array([ 5, 10,  0,  0,  0, 30])"
      ]
     },
     "execution_count": 56,
     "metadata": {},
     "output_type": "execute_result"
    }
   ],
   "source": [
    "arr"
   ]
  },
  {
   "cell_type": "code",
   "execution_count": 57,
   "id": "780588f0",
   "metadata": {},
   "outputs": [],
   "source": [
    "arr1 = np.array([5,10,15,20,25,30])"
   ]
  },
  {
   "cell_type": "code",
   "execution_count": 58,
   "id": "2674273c",
   "metadata": {},
   "outputs": [],
   "source": [
    "sliced_arr1 = arr1[2:5].copy()"
   ]
  },
  {
   "cell_type": "code",
   "execution_count": 59,
   "id": "523ac693",
   "metadata": {},
   "outputs": [
    {
     "data": {
      "text/plain": [
       "array([15, 20, 25])"
      ]
     },
     "execution_count": 59,
     "metadata": {},
     "output_type": "execute_result"
    }
   ],
   "source": [
    "sliced_arr1"
   ]
  },
  {
   "cell_type": "code",
   "execution_count": 60,
   "id": "1cf63c5a",
   "metadata": {},
   "outputs": [],
   "source": [
    "sliced_arr[:] = 0"
   ]
  },
  {
   "cell_type": "code",
   "execution_count": 61,
   "id": "a4687a56",
   "metadata": {},
   "outputs": [
    {
     "data": {
      "text/plain": [
       "array([0, 0, 0])"
      ]
     },
     "execution_count": 61,
     "metadata": {},
     "output_type": "execute_result"
    }
   ],
   "source": [
    "sliced_arr"
   ]
  },
  {
   "cell_type": "code",
   "execution_count": 62,
   "id": "bcaf6bdc",
   "metadata": {},
   "outputs": [
    {
     "data": {
      "text/plain": [
       "array([ 5, 10, 15, 20, 25, 30])"
      ]
     },
     "execution_count": 62,
     "metadata": {},
     "output_type": "execute_result"
    }
   ],
   "source": [
    "arr1"
   ]
  },
  {
   "cell_type": "markdown",
   "id": "27bb729a",
   "metadata": {},
   "source": [
    "### Now, we can see that arr now has not got tempered..."
   ]
  },
  {
   "cell_type": "markdown",
   "id": "34683be2",
   "metadata": {},
   "source": [
    "# Tutorial - 13 begins.... : NumPy : Conditional Selection"
   ]
  },
  {
   "cell_type": "code",
   "execution_count": 65,
   "id": "e165d819",
   "metadata": {},
   "outputs": [],
   "source": [
    "arr2 = np.arange(1, 11)"
   ]
  },
  {
   "cell_type": "code",
   "execution_count": 66,
   "id": "ec5d21ff",
   "metadata": {},
   "outputs": [
    {
     "data": {
      "text/plain": [
       "array([ 1,  2,  3,  4,  5,  6,  7,  8,  9, 10])"
      ]
     },
     "execution_count": 66,
     "metadata": {},
     "output_type": "execute_result"
    }
   ],
   "source": [
    "arr2"
   ]
  },
  {
   "cell_type": "code",
   "execution_count": 67,
   "id": "52408fed",
   "metadata": {},
   "outputs": [
    {
     "data": {
      "text/plain": [
       "array([False, False, False, False, False,  True,  True,  True,  True,\n",
       "        True])"
      ]
     },
     "execution_count": 67,
     "metadata": {},
     "output_type": "execute_result"
    }
   ],
   "source": [
    "arr2 > 5"
   ]
  },
  {
   "cell_type": "code",
   "execution_count": 68,
   "id": "3e07e65e",
   "metadata": {},
   "outputs": [],
   "source": [
    "mask = arr2 > 5"
   ]
  },
  {
   "cell_type": "code",
   "execution_count": 69,
   "id": "be955523",
   "metadata": {},
   "outputs": [
    {
     "data": {
      "text/plain": [
       "array([False, False, False, False, False,  True,  True,  True,  True,\n",
       "        True])"
      ]
     },
     "execution_count": 69,
     "metadata": {},
     "output_type": "execute_result"
    }
   ],
   "source": [
    "mask"
   ]
  },
  {
   "cell_type": "code",
   "execution_count": 70,
   "id": "10660521",
   "metadata": {},
   "outputs": [
    {
     "data": {
      "text/plain": [
       "array([ 6,  7,  8,  9, 10])"
      ]
     },
     "execution_count": 70,
     "metadata": {},
     "output_type": "execute_result"
    }
   ],
   "source": [
    "arr2[mask]"
   ]
  },
  {
   "cell_type": "code",
   "execution_count": 71,
   "id": "ba70d981",
   "metadata": {},
   "outputs": [
    {
     "data": {
      "text/plain": [
       "array([ 1,  2,  3,  4,  5,  6,  7,  8,  9, 10])"
      ]
     },
     "execution_count": 71,
     "metadata": {},
     "output_type": "execute_result"
    }
   ],
   "source": [
    "arr2"
   ]
  },
  {
   "cell_type": "code",
   "execution_count": 73,
   "id": "d73af915",
   "metadata": {},
   "outputs": [
    {
     "data": {
      "text/plain": [
       "array([1, 2, 3])"
      ]
     },
     "execution_count": 73,
     "metadata": {},
     "output_type": "execute_result"
    }
   ],
   "source": [
    "arr2[arr2 < 4]"
   ]
  },
  {
   "cell_type": "code",
   "execution_count": 74,
   "id": "05df06ed",
   "metadata": {},
   "outputs": [
    {
     "data": {
      "text/plain": [
       "array([ 2,  4,  6,  8, 10])"
      ]
     },
     "execution_count": 74,
     "metadata": {},
     "output_type": "execute_result"
    }
   ],
   "source": [
    "arr2[arr2 % 2 == 0]"
   ]
  },
  {
   "cell_type": "code",
   "execution_count": 75,
   "id": "37440662",
   "metadata": {},
   "outputs": [],
   "source": [
    "arr2[arr2 % 2 == 0] = 0"
   ]
  },
  {
   "cell_type": "code",
   "execution_count": 76,
   "id": "16b5658f",
   "metadata": {},
   "outputs": [
    {
     "data": {
      "text/plain": [
       "array([1, 0, 3, 0, 5, 0, 7, 0, 9, 0])"
      ]
     },
     "execution_count": 76,
     "metadata": {},
     "output_type": "execute_result"
    }
   ],
   "source": [
    "arr2"
   ]
  },
  {
   "cell_type": "markdown",
   "id": "c0c5316a",
   "metadata": {},
   "source": [
    "# Tutorial - 14 begins... : Numpy: Operations on array with scaler"
   ]
  },
  {
   "cell_type": "code",
   "execution_count": 77,
   "id": "e121a8c4",
   "metadata": {},
   "outputs": [],
   "source": [
    "arr3 = np.array([1,2,3,4])"
   ]
  },
  {
   "cell_type": "code",
   "execution_count": 78,
   "id": "6bdcc07a",
   "metadata": {},
   "outputs": [
    {
     "data": {
      "text/plain": [
       "array([2, 4, 6, 8])"
      ]
     },
     "execution_count": 78,
     "metadata": {},
     "output_type": "execute_result"
    }
   ],
   "source": [
    "arr3 * 2"
   ]
  },
  {
   "cell_type": "code",
   "execution_count": 79,
   "id": "36f982c9",
   "metadata": {},
   "outputs": [
    {
     "data": {
      "text/plain": [
       "array([6, 7, 8, 9])"
      ]
     },
     "execution_count": 79,
     "metadata": {},
     "output_type": "execute_result"
    }
   ],
   "source": [
    "arr3 + 5"
   ]
  },
  {
   "cell_type": "code",
   "execution_count": 80,
   "id": "31f2cde4",
   "metadata": {},
   "outputs": [
    {
     "data": {
      "text/plain": [
       "array([ 1,  4,  9, 16], dtype=int32)"
      ]
     },
     "execution_count": 80,
     "metadata": {},
     "output_type": "execute_result"
    }
   ],
   "source": [
    "arr3 ** 2"
   ]
  },
  {
   "cell_type": "code",
   "execution_count": 81,
   "id": "43c74f9d",
   "metadata": {},
   "outputs": [],
   "source": [
    "# Above this operations on array with scalar can be performed with 2d array as well..."
   ]
  },
  {
   "cell_type": "code",
   "execution_count": 82,
   "id": "370e6359",
   "metadata": {},
   "outputs": [],
   "source": [
    "arr4 = np.array([1,2,3,4]).reshape(2,2)"
   ]
  },
  {
   "cell_type": "code",
   "execution_count": 83,
   "id": "b7207365",
   "metadata": {},
   "outputs": [
    {
     "data": {
      "text/plain": [
       "array([[1, 2],\n",
       "       [3, 4]])"
      ]
     },
     "execution_count": 83,
     "metadata": {},
     "output_type": "execute_result"
    }
   ],
   "source": [
    "arr4"
   ]
  },
  {
   "cell_type": "code",
   "execution_count": 84,
   "id": "9a25f5b7",
   "metadata": {},
   "outputs": [
    {
     "data": {
      "text/plain": [
       "array([[ 1,  4],\n",
       "       [ 9, 16]], dtype=int32)"
      ]
     },
     "execution_count": 84,
     "metadata": {},
     "output_type": "execute_result"
    }
   ],
   "source": [
    "arr4 ** 2"
   ]
  },
  {
   "cell_type": "code",
   "execution_count": 85,
   "id": "a9bafd64",
   "metadata": {},
   "outputs": [
    {
     "data": {
      "text/plain": [
       "array([[6, 7],\n",
       "       [8, 9]])"
      ]
     },
     "execution_count": 85,
     "metadata": {},
     "output_type": "execute_result"
    }
   ],
   "source": [
    "arr4 + 5"
   ]
  },
  {
   "cell_type": "code",
   "execution_count": 86,
   "id": "46402e05",
   "metadata": {},
   "outputs": [
    {
     "name": "stderr",
     "output_type": "stream",
     "text": [
      "<ipython-input-86-10c233e0a2b0>:1: RuntimeWarning: divide by zero encountered in true_divide\n",
      "  arr4 / 0\n"
     ]
    },
    {
     "data": {
      "text/plain": [
       "array([[inf, inf],\n",
       "       [inf, inf]])"
      ]
     },
     "execution_count": 86,
     "metadata": {},
     "output_type": "execute_result"
    }
   ],
   "source": [
    "arr4 / 0"
   ]
  },
  {
   "cell_type": "markdown",
   "id": "bcdf280c",
   "metadata": {},
   "source": [
    "# Tutorial - 15 begins... : NumPy : operations on two or more array"
   ]
  },
  {
   "cell_type": "code",
   "execution_count": 91,
   "id": "aa7d2f58",
   "metadata": {},
   "outputs": [],
   "source": [
    "Arr1 = np.array([1,2,3,4])\n",
    "Arr2 = np.array([5,6,7,8])\n",
    "Arr3 = np.array([9,10,11,12])"
   ]
  },
  {
   "cell_type": "code",
   "execution_count": 92,
   "id": "0e10ec52",
   "metadata": {},
   "outputs": [
    {
     "data": {
      "text/plain": [
       "array([ 5, 12, 21, 32])"
      ]
     },
     "execution_count": 92,
     "metadata": {},
     "output_type": "execute_result"
    }
   ],
   "source": [
    "Arr1 * Arr2"
   ]
  },
  {
   "cell_type": "code",
   "execution_count": 93,
   "id": "57cf99f8",
   "metadata": {},
   "outputs": [
    {
     "data": {
      "text/plain": [
       "array([0.2       , 0.33333333, 0.42857143, 0.5       ])"
      ]
     },
     "execution_count": 93,
     "metadata": {},
     "output_type": "execute_result"
    }
   ],
   "source": [
    "Arr1 / Arr2"
   ]
  },
  {
   "cell_type": "code",
   "execution_count": 95,
   "id": "33ce88ef",
   "metadata": {},
   "outputs": [
    {
     "data": {
      "text/plain": [
       "array([    1,    64,  2187, 65536], dtype=int32)"
      ]
     },
     "execution_count": 95,
     "metadata": {},
     "output_type": "execute_result"
    }
   ],
   "source": [
    "Arr1 ** Arr2"
   ]
  },
  {
   "cell_type": "code",
   "execution_count": 96,
   "id": "7c936926",
   "metadata": {},
   "outputs": [
    {
     "data": {
      "text/plain": [
       "array([14, 22, 32, 44])"
      ]
     },
     "execution_count": 96,
     "metadata": {},
     "output_type": "execute_result"
    }
   ],
   "source": [
    "Arr1 * Arr2 + Arr3"
   ]
  },
  {
   "cell_type": "code",
   "execution_count": 102,
   "id": "aed33dff",
   "metadata": {},
   "outputs": [],
   "source": [
    "np.random.seed(123)\n",
    "matrix_1 = np.random.randint(1,12,9).reshape(3,3)\n",
    "matrix_2 = np.random.randint(5,15,9).reshape(3,3)"
   ]
  },
  {
   "cell_type": "code",
   "execution_count": 103,
   "id": "825a8ac8",
   "metadata": {},
   "outputs": [
    {
     "data": {
      "text/plain": [
       "array([[ 3,  3,  7],\n",
       "       [ 2,  4, 11],\n",
       "       [10,  7,  2]])"
      ]
     },
     "execution_count": 103,
     "metadata": {},
     "output_type": "execute_result"
    }
   ],
   "source": [
    "matrix_1"
   ]
  },
  {
   "cell_type": "code",
   "execution_count": 104,
   "id": "eb5653ca",
   "metadata": {},
   "outputs": [
    {
     "data": {
      "text/plain": [
       "array([[ 5,  6, 14],\n",
       "       [ 5,  5, 14],\n",
       "       [ 8,  9,  5]])"
      ]
     },
     "execution_count": 104,
     "metadata": {},
     "output_type": "execute_result"
    }
   ],
   "source": [
    "matrix_2"
   ]
  },
  {
   "cell_type": "code",
   "execution_count": 105,
   "id": "524e8014",
   "metadata": {},
   "outputs": [
    {
     "data": {
      "text/plain": [
       "array([[ 8,  9, 21],\n",
       "       [ 7,  9, 25],\n",
       "       [18, 16,  7]])"
      ]
     },
     "execution_count": 105,
     "metadata": {},
     "output_type": "execute_result"
    }
   ],
   "source": [
    "matrix_1 + matrix_2"
   ]
  },
  {
   "cell_type": "code",
   "execution_count": 106,
   "id": "fb7e55ff",
   "metadata": {},
   "outputs": [
    {
     "data": {
      "text/plain": [
       "array([[ 86,  96, 119],\n",
       "       [118, 131, 139],\n",
       "       [101, 113, 248]])"
      ]
     },
     "execution_count": 106,
     "metadata": {},
     "output_type": "execute_result"
    }
   ],
   "source": [
    "matrix_1.dot(matrix_2)"
   ]
  },
  {
   "cell_type": "code",
   "execution_count": null,
   "id": "9db51d17",
   "metadata": {},
   "outputs": [],
   "source": []
  }
 ],
 "metadata": {
  "kernelspec": {
   "display_name": "Python 3",
   "language": "python",
   "name": "python3"
  },
  "language_info": {
   "codemirror_mode": {
    "name": "ipython",
    "version": 3
   },
   "file_extension": ".py",
   "mimetype": "text/x-python",
   "name": "python",
   "nbconvert_exporter": "python",
   "pygments_lexer": "ipython3",
   "version": "3.8.8"
  }
 },
 "nbformat": 4,
 "nbformat_minor": 5
}
