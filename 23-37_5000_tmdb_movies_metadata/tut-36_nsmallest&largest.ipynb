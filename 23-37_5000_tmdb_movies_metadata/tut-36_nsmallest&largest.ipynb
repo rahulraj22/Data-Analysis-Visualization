{
 "cells": [
  {
   "cell_type": "markdown",
   "id": "a787e4b8",
   "metadata": {},
   "source": [
    "# tut - 36: Pandas Series : nsmalest nlargest idxmin idxmax"
   ]
  },
  {
   "cell_type": "code",
   "execution_count": 1,
   "id": "85c9edf4",
   "metadata": {},
   "outputs": [],
   "source": [
    "# In this tut. we will learn that how we can find the smallest and largest value from the series...."
   ]
  },
  {
   "cell_type": "code",
   "execution_count": 2,
   "id": "9a4f9a3c",
   "metadata": {},
   "outputs": [],
   "source": [
    "import pandas as pd"
   ]
  },
  {
   "cell_type": "code",
   "execution_count": 3,
   "id": "08608fbb",
   "metadata": {},
   "outputs": [],
   "source": [
    "guitar_dic = {\n",
    "    'Yamaha F310' : 8500,\n",
    "    'Faith Apollo Venus' : 30000,\n",
    "    'Taylor 214 CE' : 250000,\n",
    "    'Baton Rounge X6C' : 40000,\n",
    "    'PRS SE' : 42000,\n",
    "    'Lakewood' : 300000\n",
    "}"
   ]
  },
  {
   "cell_type": "code",
   "execution_count": 4,
   "id": "1f9cef9d",
   "metadata": {},
   "outputs": [
    {
     "data": {
      "text/plain": [
       "{'Yamaha F310': 8500,\n",
       " 'Faith Apollo Venus': 30000,\n",
       " 'Taylor 214 CE': 250000,\n",
       " 'Baton Rounge X6C': 40000,\n",
       " 'PRS SE': 42000,\n",
       " 'Lakewood': 300000}"
      ]
     },
     "execution_count": 4,
     "metadata": {},
     "output_type": "execute_result"
    }
   ],
   "source": [
    "guitar_dic"
   ]
  },
  {
   "cell_type": "code",
   "execution_count": 7,
   "id": "1892880f",
   "metadata": {},
   "outputs": [],
   "source": [
    "# Lets create series of this guitar_dic:\n",
    "# Here, we have given the name of the series as 'Price'\n",
    "guitar_price = pd.Series(guitar_dic, name = 'Price') "
   ]
  },
  {
   "cell_type": "code",
   "execution_count": 8,
   "id": "b209e79a",
   "metadata": {},
   "outputs": [
    {
     "data": {
      "text/plain": [
       "Yamaha F310             8500\n",
       "Faith Apollo Venus     30000\n",
       "Taylor 214 CE         250000\n",
       "Baton Rounge X6C       40000\n",
       "PRS SE                 42000\n",
       "Lakewood              300000\n",
       "Name: Price, dtype: int64"
      ]
     },
     "execution_count": 8,
     "metadata": {},
     "output_type": "execute_result"
    }
   ],
   "source": [
    "guitar_price"
   ]
  },
  {
   "cell_type": "code",
   "execution_count": 10,
   "id": "a5816fbe",
   "metadata": {},
   "outputs": [
    {
     "data": {
      "text/plain": [
       "Yamaha F310             8500\n",
       "Faith Apollo Venus     30000\n",
       "Baton Rounge X6C       40000\n",
       "PRS SE                 42000\n",
       "Taylor 214 CE         250000\n",
       "Name: Price, dtype: int64"
      ]
     },
     "execution_count": 10,
     "metadata": {},
     "output_type": "execute_result"
    }
   ],
   "source": [
    "# To get the top 5 five guitar whose price is very less compare to others...\n",
    "guitar_price.nsmallest()"
   ]
  },
  {
   "cell_type": "code",
   "execution_count": 12,
   "id": "c4403768",
   "metadata": {},
   "outputs": [
    {
     "data": {
      "text/plain": [
       "Lakewood              300000\n",
       "Taylor 214 CE         250000\n",
       "PRS SE                 42000\n",
       "Baton Rounge X6C       40000\n",
       "Faith Apollo Venus     30000\n",
       "Name: Price, dtype: int64"
      ]
     },
     "execution_count": 12,
     "metadata": {},
     "output_type": "execute_result"
    }
   ],
   "source": [
    "# Similarly this will return top 5 guitar whose price is highest...\n",
    "guitar_price.nlargest()"
   ]
  },
  {
   "cell_type": "code",
   "execution_count": 13,
   "id": "6c1bbad9",
   "metadata": {},
   "outputs": [
    {
     "data": {
      "text/plain": [
       "Yamaha F310            8500\n",
       "Faith Apollo Venus    30000\n",
       "Baton Rounge X6C      40000\n",
       "Name: Price, dtype: int64"
      ]
     },
     "execution_count": 13,
     "metadata": {},
     "output_type": "execute_result"
    }
   ],
   "source": [
    "# By-default nsmallest() and nlargest() will give top 5 results...\n",
    "# But if we need certain number of top prices/etc... then what ?\n",
    "guitar_price.nsmallest(3)"
   ]
  },
  {
   "cell_type": "code",
   "execution_count": 14,
   "id": "216e026d",
   "metadata": {},
   "outputs": [
    {
     "data": {
      "text/plain": [
       "Lakewood            300000\n",
       "Taylor 214 CE       250000\n",
       "PRS SE               42000\n",
       "Baton Rounge X6C     40000\n",
       "Name: Price, dtype: int64"
      ]
     },
     "execution_count": 14,
     "metadata": {},
     "output_type": "execute_result"
    }
   ],
   "source": [
    "guitar_price.nlargest(4)"
   ]
  },
  {
   "cell_type": "code",
   "execution_count": 15,
   "id": "3c9fb73e",
   "metadata": {},
   "outputs": [
    {
     "data": {
      "text/plain": [
       "Yamaha F310            8500\n",
       "Faith Apollo Venus    30000\n",
       "Baton Rounge X6C      40000\n",
       "Name: Price, dtype: int64"
      ]
     },
     "execution_count": 15,
     "metadata": {},
     "output_type": "execute_result"
    }
   ],
   "source": [
    "# other way to write the same:\n",
    "guitar_price.nsmallest(n = 3)"
   ]
  },
  {
   "cell_type": "code",
   "execution_count": 17,
   "id": "b8d29e7f",
   "metadata": {},
   "outputs": [
    {
     "data": {
      "text/plain": [
       "'Yamaha F310'"
      ]
     },
     "execution_count": 17,
     "metadata": {},
     "output_type": "execute_result"
    }
   ],
   "source": [
    "# what if just want to know there name i.e name of the guitar ?\n",
    "# Name of that guitar which is cheapest:\n",
    "guitar_price.nsmallest().index[0]"
   ]
  },
  {
   "cell_type": "code",
   "execution_count": 18,
   "id": "ede33d7e",
   "metadata": {},
   "outputs": [
    {
     "data": {
      "text/plain": [
       "'Lakewood'"
      ]
     },
     "execution_count": 18,
     "metadata": {},
     "output_type": "execute_result"
    }
   ],
   "source": [
    "# similar idea can be applied in nlargest as well:\n",
    "guitar_price.nlargest().index[0]"
   ]
  },
  {
   "cell_type": "markdown",
   "id": "85ca3fc0",
   "metadata": {},
   "source": [
    "###  lets learn about idxmin and idxmax :"
   ]
  },
  {
   "cell_type": "code",
   "execution_count": 19,
   "id": "a4bedff8",
   "metadata": {},
   "outputs": [],
   "source": [
    "# idxmin: this will return the index of the smallest value\n",
    "# idxmax: this will return the index of the largest value"
   ]
  },
  {
   "cell_type": "code",
   "execution_count": 20,
   "id": "06e8b82d",
   "metadata": {},
   "outputs": [
    {
     "data": {
      "text/plain": [
       "'Yamaha F310'"
      ]
     },
     "execution_count": 20,
     "metadata": {},
     "output_type": "execute_result"
    }
   ],
   "source": [
    "guitar_price.idxmin()"
   ]
  },
  {
   "cell_type": "code",
   "execution_count": 21,
   "id": "07f822ac",
   "metadata": {},
   "outputs": [
    {
     "data": {
      "text/plain": [
       "'Lakewood'"
      ]
     },
     "execution_count": 21,
     "metadata": {},
     "output_type": "execute_result"
    }
   ],
   "source": [
    "guitar_price.idxmax()"
   ]
  },
  {
   "cell_type": "code",
   "execution_count": null,
   "id": "5da50a88",
   "metadata": {},
   "outputs": [],
   "source": []
  }
 ],
 "metadata": {
  "kernelspec": {
   "display_name": "Python 3",
   "language": "python",
   "name": "python3"
  },
  "language_info": {
   "codemirror_mode": {
    "name": "ipython",
    "version": 3
   },
   "file_extension": ".py",
   "mimetype": "text/x-python",
   "name": "python",
   "nbconvert_exporter": "python",
   "pygments_lexer": "ipython3",
   "version": "3.8.8"
  }
 },
 "nbformat": 4,
 "nbformat_minor": 5
}
