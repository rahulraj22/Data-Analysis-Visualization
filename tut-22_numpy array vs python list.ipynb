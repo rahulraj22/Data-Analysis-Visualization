{
 "cells": [
  {
   "cell_type": "code",
   "execution_count": 2,
   "id": "a62dfeb6",
   "metadata": {},
   "outputs": [
    {
     "name": "stdout",
     "output_type": "stream",
     "text": [
      "15.8 ns ± 0.379 ns per loop (mean ± std. dev. of 7 runs, 100000000 loops each)\n"
     ]
    }
   ],
   "source": [
    "%timeit 2+3"
   ]
  },
  {
   "cell_type": "code",
   "execution_count": 18,
   "id": "9cb1b00e",
   "metadata": {},
   "outputs": [
    {
     "name": "stdout",
     "output_type": "stream",
     "text": [
      "3.87 ms ± 92.5 µs per loop (mean ± std. dev. of 7 runs, 100 loops each)\n"
     ]
    }
   ],
   "source": [
    "%timeit [i ** 2 for i in range(1, 10000)]"
   ]
  },
  {
   "cell_type": "code",
   "execution_count": 6,
   "id": "84165a18",
   "metadata": {},
   "outputs": [
    {
     "name": "stdout",
     "output_type": "stream",
     "text": [
      "1.55 µs ± 27 ns per loop (mean ± std. dev. of 7 runs, 1000000 loops each)\n"
     ]
    }
   ],
   "source": [
    "%%timeit   # %%timeit is used to find the run-time of this cell when it will run...\n",
    "l = []\n",
    "for i in range(1, 4):\n",
    "    l.append(i ** 2)"
   ]
  },
  {
   "cell_type": "code",
   "execution_count": 19,
   "id": "8cb4fa00",
   "metadata": {},
   "outputs": [],
   "source": [
    "import numpy as np"
   ]
  },
  {
   "cell_type": "code",
   "execution_count": 20,
   "id": "d09fb529",
   "metadata": {},
   "outputs": [
    {
     "name": "stdout",
     "output_type": "stream",
     "text": [
      "21.2 µs ± 1.58 µs per loop (mean ± std. dev. of 7 runs, 10000 loops each)\n"
     ]
    }
   ],
   "source": [
    "%timeit np.arange(1, 10000)**2"
   ]
  },
  {
   "cell_type": "code",
   "execution_count": 17,
   "id": "c1ddaad8",
   "metadata": {},
   "outputs": [],
   "source": [
    "# Therefore, Numpy array is 2 times faster than the python list"
   ]
  },
  {
   "cell_type": "code",
   "execution_count": null,
   "id": "3f3b605b",
   "metadata": {},
   "outputs": [],
   "source": []
  }
 ],
 "metadata": {
  "kernelspec": {
   "display_name": "Python 3",
   "language": "python",
   "name": "python3"
  },
  "language_info": {
   "codemirror_mode": {
    "name": "ipython",
    "version": 3
   },
   "file_extension": ".py",
   "mimetype": "text/x-python",
   "name": "python",
   "nbconvert_exporter": "python",
   "pygments_lexer": "ipython3",
   "version": "3.8.8"
  }
 },
 "nbformat": 4,
 "nbformat_minor": 5
}
