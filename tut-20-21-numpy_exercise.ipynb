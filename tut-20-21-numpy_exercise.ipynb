{
 "cells": [
  {
   "cell_type": "markdown",
   "id": "01b00884",
   "metadata": {},
   "source": [
    "# Import numpy library"
   ]
  },
  {
   "cell_type": "code",
   "execution_count": 1,
   "id": "6473574e",
   "metadata": {},
   "outputs": [],
   "source": [
    "import numpy as np"
   ]
  },
  {
   "cell_type": "markdown",
   "id": "61baf7fd",
   "metadata": {},
   "source": [
    "# Create an Array using array function"
   ]
  },
  {
   "cell_type": "code",
   "execution_count": 3,
   "id": "1c76a0a5",
   "metadata": {},
   "outputs": [
    {
     "data": {
      "text/plain": [
       "[1, 2, 3, 4, 5, 6]"
      ]
     },
     "execution_count": 3,
     "metadata": {},
     "output_type": "execute_result"
    }
   ],
   "source": [
    "arr = [1,2,3,4,5,6]\n",
    "np.array(arr)\n",
    "arr"
   ]
  },
  {
   "cell_type": "markdown",
   "id": "2cb3da8f",
   "metadata": {},
   "source": [
    "# Create an Array containing numbers from 20 to 40"
   ]
  },
  {
   "cell_type": "code",
   "execution_count": 16,
   "id": "a87e2f44",
   "metadata": {},
   "outputs": [
    {
     "data": {
      "text/plain": [
       "array([25, 21, 37, 40, 39, 26, 33, 29, 36, 31])"
      ]
     },
     "execution_count": 16,
     "metadata": {},
     "output_type": "execute_result"
    }
   ],
   "source": [
    "arr1 = np.random.randint(20, 41, 10) # this will give random numbers not the range of numbers !!! (mind it !!)\n",
    "arr1"
   ]
  },
  {
   "cell_type": "code",
   "execution_count": 17,
   "id": "50b4806c",
   "metadata": {},
   "outputs": [
    {
     "data": {
      "text/plain": [
       "array([20, 21, 22, 23, 24, 25, 26, 27, 28, 29, 30, 31, 32, 33, 34, 35, 36,\n",
       "       37, 38, 39, 40])"
      ]
     },
     "execution_count": 17,
     "metadata": {},
     "output_type": "execute_result"
    }
   ],
   "source": [
    "# Other way to do the same:--\n",
    "arr_arange = np.arange(20, 41)\n",
    "arr_arange"
   ]
  },
  {
   "cell_type": "markdown",
   "id": "adebc6d0",
   "metadata": {},
   "source": [
    "# Create an array which contain 10 elements and every element is 5"
   ]
  },
  {
   "cell_type": "code",
   "execution_count": 5,
   "id": "0165883f",
   "metadata": {},
   "outputs": [
    {
     "data": {
      "text/plain": [
       "array([5, 5, 5, 5, 5, 5, 5, 5, 5, 5])"
      ]
     },
     "execution_count": 5,
     "metadata": {},
     "output_type": "execute_result"
    }
   ],
   "source": [
    "arr2 = np.random.randint(5, 6, 10)\n",
    "arr2"
   ]
  },
  {
   "cell_type": "code",
   "execution_count": 20,
   "id": "0e882741",
   "metadata": {},
   "outputs": [
    {
     "data": {
      "text/plain": [
       "array([5., 5., 5., 5., 5., 5., 5., 5., 5., 5.])"
      ]
     },
     "execution_count": 20,
     "metadata": {},
     "output_type": "execute_result"
    }
   ],
   "source": [
    "# Other way to do the same :--\n",
    "fives = np.ones(10)\n",
    "fives*5"
   ]
  },
  {
   "cell_type": "markdown",
   "id": "f87f7781",
   "metadata": {},
   "source": [
    "# create a 1-d array and then convert it into 3-d array"
   ]
  },
  {
   "cell_type": "code",
   "execution_count": 21,
   "id": "d2106fbc",
   "metadata": {},
   "outputs": [
    {
     "data": {
      "text/plain": [
       "array([[[ 8,  9,  4],\n",
       "        [14,  6, 12]],\n",
       "\n",
       "       [[14,  5, 18],\n",
       "        [ 9,  1, 17]],\n",
       "\n",
       "       [[11,  5, 12],\n",
       "        [16, 11, 14]],\n",
       "\n",
       "       [[15,  4, 17],\n",
       "        [10,  6, 10]]])"
      ]
     },
     "execution_count": 21,
     "metadata": {},
     "output_type": "execute_result"
    }
   ],
   "source": [
    "oneD_to_3d_array = np.random.randint(1, 21, 24).reshape(4, 2, 3)  # mind it !! : 24 = 4 * 2 * 3\n",
    "oneD_to_3d_array"
   ]
  },
  {
   "cell_type": "markdown",
   "id": "cb3cfccf",
   "metadata": {},
   "source": [
    "# Create 2-d array which contains random 25 numbers between 0 and 1"
   ]
  },
  {
   "cell_type": "code",
   "execution_count": 10,
   "id": "5ffd05cb",
   "metadata": {},
   "outputs": [
    {
     "data": {
      "text/plain": [
       "array([[1, 0, 1, 1, 0],\n",
       "       [1, 1, 1, 1, 1],\n",
       "       [1, 1, 1, 1, 1],\n",
       "       [1, 0, 1, 0, 1],\n",
       "       [0, 1, 0, 0, 1]])"
      ]
     },
     "execution_count": 10,
     "metadata": {},
     "output_type": "execute_result"
    }
   ],
   "source": [
    "array_2d = np.random.randint(0, 2, 25).reshape(5, 5)\n",
    "array_2d"
   ]
  },
  {
   "cell_type": "code",
   "execution_count": 23,
   "id": "acecb27b",
   "metadata": {},
   "outputs": [
    {
     "data": {
      "text/plain": [
       "array([[0.93293021, 0.19550825, 0.4258276 , 0.04834257, 0.53500053],\n",
       "       [0.10323527, 0.67167862, 0.04698927, 0.9410221 , 0.03561886],\n",
       "       [0.60951815, 0.85293116, 0.18446989, 0.45624197, 0.98906781],\n",
       "       [0.68678619, 0.05790827, 0.90305438, 0.253705  , 0.27447314],\n",
       "       [0.58577715, 0.16431577, 0.36962507, 0.254459  , 0.70548486]])"
      ]
     },
     "execution_count": 23,
     "metadata": {},
     "output_type": "execute_result"
    }
   ],
   "source": [
    "# Here, question is asking to find random number b/w 0 to 1:\n",
    "random_01 = np.random.rand(25).reshape(5, 5)\n",
    "random_01"
   ]
  },
  {
   "cell_type": "markdown",
   "id": "a3a28c54",
   "metadata": {},
   "source": [
    "# create array containing 20 random integer then replace every even number with -1"
   ]
  },
  {
   "cell_type": "code",
   "execution_count": 35,
   "id": "8db6f397",
   "metadata": {},
   "outputs": [
    {
     "data": {
      "text/plain": [
       "array([ 67,  93,  99,  18,  84,  58,  87,  98,  97,  48,  74,  33,  47,\n",
       "        97,  26,  84,  79,  37,  97,  81,  69,  50,  56,  68,   3,  85,\n",
       "        40,  67,  85,  48,  62,  49,   8, 100,  93,  53,  98,  86,  95,\n",
       "        28,  35,  98,  77,  41,   4,  70,  65,  76,  35,  59,  11,  23,\n",
       "        78,  19,  16,  28,  31,  53,  71,  27,  81,   7,  15,  76,  55,\n",
       "        72,   2,  44,  59,  56,  26,  51,  85,  57,  50,  13,  19,  82,\n",
       "         2,  52,  45,  49,  57,  92,  50,  87,   4,  68,  12,  22,  90,\n",
       "        99,   4,  12,   4,  95,   7,  10,  88,  15])"
      ]
     },
     "execution_count": 35,
     "metadata": {},
     "output_type": "execute_result"
    }
   ],
   "source": [
    "np.random.seed(123)\n",
    "arr_replaceEven = np.random.randint(1, 101,100)\n",
    "arr_replaceEven"
   ]
  },
  {
   "cell_type": "code",
   "execution_count": 36,
   "id": "b8fa8315",
   "metadata": {},
   "outputs": [
    {
     "data": {
      "text/plain": [
       "array([ 18,  84,  58,  98,  48,  74,  26,  84,  50,  56,  68,  40,  48,\n",
       "        62,   8, 100,  98,  86,  28,  98,   4,  70,  76,  78,  16,  28,\n",
       "        76,  72,   2,  44,  56,  26,  50,  82,   2,  52,  92,  50,   4,\n",
       "        68,  12,  22,  90,   4,  12,   4,  10,  88])"
      ]
     },
     "execution_count": 36,
     "metadata": {},
     "output_type": "execute_result"
    }
   ],
   "source": [
    "arr_replaceEven[arr_replaceEven % 2 == 0]"
   ]
  },
  {
   "cell_type": "code",
   "execution_count": 37,
   "id": "06217960",
   "metadata": {},
   "outputs": [
    {
     "data": {
      "text/plain": [
       "array([67, 93, 99, -1, -1, -1, 87, -1, 97, -1, -1, 33, 47, 97, -1, -1, 79,\n",
       "       37, 97, 81, 69, -1, -1, -1,  3, 85, -1, 67, 85, -1, -1, 49, -1, -1,\n",
       "       93, 53, -1, -1, 95, -1, 35, -1, 77, 41, -1, -1, 65, -1, 35, 59, 11,\n",
       "       23, -1, 19, -1, -1, 31, 53, 71, 27, 81,  7, 15, -1, 55, -1, -1, -1,\n",
       "       59, -1, -1, 51, 85, 57, -1, 13, 19, -1, -1, -1, 45, 49, 57, -1, -1,\n",
       "       87, -1, -1, -1, -1, -1, 99, -1, -1, -1, 95,  7, -1, -1, 15])"
      ]
     },
     "execution_count": 37,
     "metadata": {},
     "output_type": "execute_result"
    }
   ],
   "source": [
    "arr_replaceEven[arr_replaceEven % 2 == 0] = -1\n",
    "arr_replaceEven"
   ]
  },
  {
   "cell_type": "markdown",
   "id": "95644569",
   "metadata": {},
   "source": [
    "# You have a matrix\n",
    "[[5 , 10, 15, 20, 25], [30, 35, 40, 45, 50], [55, 60, 65, 70, 75], [80, 85, 90, 95, 100]]\n",
    "\n",
    "Extract [30,35,40] [55, 60, 65]"
   ]
  },
  {
   "cell_type": "code",
   "execution_count": 42,
   "id": "ffbb3169",
   "metadata": {},
   "outputs": [
    {
     "data": {
      "text/plain": [
       "array([[  5,  10,  15,  20,  25],\n",
       "       [ 30,  35,  40,  45,  50],\n",
       "       [ 55,  60,  65,  70,  75],\n",
       "       [ 80,  85,  90,  95, 100]])"
      ]
     },
     "execution_count": 42,
     "metadata": {},
     "output_type": "execute_result"
    }
   ],
   "source": [
    "arr_1 = [[5 , 10, 15, 20, 25], [30, 35, 40, 45, 50], [55, 60, 65, 70, 75], [80, 85, 90, 95, 100]]\n",
    "arr_1 = np.array(arr_1)\n",
    "arr_1"
   ]
  },
  {
   "cell_type": "code",
   "execution_count": 43,
   "id": "c1198b2e",
   "metadata": {},
   "outputs": [
    {
     "data": {
      "text/plain": [
       "array([[30, 35, 40],\n",
       "       [55, 60, 65]])"
      ]
     },
     "execution_count": 43,
     "metadata": {},
     "output_type": "execute_result"
    }
   ],
   "source": [
    "arr_1[1 : 3, : 3]"
   ]
  },
  {
   "cell_type": "markdown",
   "id": "667ea6ca",
   "metadata": {},
   "source": [
    "# Concatenate two 1-d array"
   ]
  },
  {
   "cell_type": "code",
   "execution_count": 44,
   "id": "09a7fc1c",
   "metadata": {},
   "outputs": [],
   "source": [
    "A1 = np.array([1, 2, 3, 4, 5])\n",
    "A2 = np.array([6, 7, 8, 9, 10])"
   ]
  },
  {
   "cell_type": "code",
   "execution_count": 45,
   "id": "3e51e301",
   "metadata": {},
   "outputs": [
    {
     "data": {
      "text/plain": [
       "array([1, 2, 3, 4, 5])"
      ]
     },
     "execution_count": 45,
     "metadata": {},
     "output_type": "execute_result"
    }
   ],
   "source": [
    "A1"
   ]
  },
  {
   "cell_type": "code",
   "execution_count": 46,
   "id": "e3cdf810",
   "metadata": {},
   "outputs": [
    {
     "data": {
      "text/plain": [
       "array([ 6,  7,  8,  9, 10])"
      ]
     },
     "execution_count": 46,
     "metadata": {},
     "output_type": "execute_result"
    }
   ],
   "source": [
    "A2"
   ]
  },
  {
   "cell_type": "code",
   "execution_count": 49,
   "id": "b3746099",
   "metadata": {},
   "outputs": [
    {
     "data": {
      "text/plain": [
       "array([ 1,  2,  3,  4,  5,  6,  7,  8,  9, 10])"
      ]
     },
     "execution_count": 49,
     "metadata": {},
     "output_type": "execute_result"
    }
   ],
   "source": [
    "np.hstack((A1, A2))"
   ]
  },
  {
   "cell_type": "code",
   "execution_count": 50,
   "id": "fbbd700c",
   "metadata": {},
   "outputs": [
    {
     "data": {
      "text/plain": [
       "array([[ 1,  2,  3,  4,  5],\n",
       "       [ 6,  7,  8,  9, 10]])"
      ]
     },
     "execution_count": 50,
     "metadata": {},
     "output_type": "execute_result"
    }
   ],
   "source": [
    "np.vstack((A1, A2))"
   ]
  },
  {
   "cell_type": "markdown",
   "id": "1c152669",
   "metadata": {},
   "source": [
    "# Stack 2-d matrix horizontally and vertically"
   ]
  },
  {
   "cell_type": "code",
   "execution_count": 54,
   "id": "bfdf8ac3",
   "metadata": {},
   "outputs": [],
   "source": [
    "np.random.seed(123)\n",
    "matrix_1d = np.random.randint(1, 11, 25).reshape(5, 5)\n",
    "matrix_2d = np.random.randint(10, 21, 25).reshape(5, 5)"
   ]
  },
  {
   "cell_type": "code",
   "execution_count": 55,
   "id": "0a0dad6b",
   "metadata": {},
   "outputs": [
    {
     "data": {
      "text/plain": [
       "array([[ 3,  3,  7,  2,  4],\n",
       "       [10,  7,  2,  1,  2],\n",
       "       [10,  1,  1, 10,  4],\n",
       "       [ 5,  1,  1,  5,  2],\n",
       "       [ 8,  4,  3,  5,  8]])"
      ]
     },
     "execution_count": 55,
     "metadata": {},
     "output_type": "execute_result"
    }
   ],
   "source": [
    "matrix_1d"
   ]
  },
  {
   "cell_type": "code",
   "execution_count": 56,
   "id": "72143255",
   "metadata": {},
   "outputs": [
    {
     "data": {
      "text/plain": [
       "array([[12, 14, 18, 10, 17],\n",
       "       [19, 13, 14, 16, 11],\n",
       "       [15, 16, 12, 11, 18],\n",
       "       [13, 20, 15, 10, 12],\n",
       "       [20, 20, 16, 12, 14]])"
      ]
     },
     "execution_count": 56,
     "metadata": {},
     "output_type": "execute_result"
    }
   ],
   "source": [
    "matrix_2d"
   ]
  },
  {
   "cell_type": "code",
   "execution_count": 57,
   "id": "178af425",
   "metadata": {},
   "outputs": [
    {
     "data": {
      "text/plain": [
       "array([[ 3,  3,  7,  2,  4, 12, 14, 18, 10, 17],\n",
       "       [10,  7,  2,  1,  2, 19, 13, 14, 16, 11],\n",
       "       [10,  1,  1, 10,  4, 15, 16, 12, 11, 18],\n",
       "       [ 5,  1,  1,  5,  2, 13, 20, 15, 10, 12],\n",
       "       [ 8,  4,  3,  5,  8, 20, 20, 16, 12, 14]])"
      ]
     },
     "execution_count": 57,
     "metadata": {},
     "output_type": "execute_result"
    }
   ],
   "source": [
    "np.hstack((matrix_1d, matrix_2d))"
   ]
  },
  {
   "cell_type": "code",
   "execution_count": 58,
   "id": "36642ab4",
   "metadata": {},
   "outputs": [
    {
     "data": {
      "text/plain": [
       "array([[ 3,  3,  7,  2,  4],\n",
       "       [10,  7,  2,  1,  2],\n",
       "       [10,  1,  1, 10,  4],\n",
       "       [ 5,  1,  1,  5,  2],\n",
       "       [ 8,  4,  3,  5,  8],\n",
       "       [12, 14, 18, 10, 17],\n",
       "       [19, 13, 14, 16, 11],\n",
       "       [15, 16, 12, 11, 18],\n",
       "       [13, 20, 15, 10, 12],\n",
       "       [20, 20, 16, 12, 14]])"
      ]
     },
     "execution_count": 58,
     "metadata": {},
     "output_type": "execute_result"
    }
   ],
   "source": [
    "np.vstack((matrix_1d, matrix_2d))"
   ]
  },
  {
   "cell_type": "code",
   "execution_count": null,
   "id": "81a72421",
   "metadata": {},
   "outputs": [],
   "source": []
  }
 ],
 "metadata": {
  "kernelspec": {
   "display_name": "Python 3",
   "language": "python",
   "name": "python3"
  },
  "language_info": {
   "codemirror_mode": {
    "name": "ipython",
    "version": 3
   },
   "file_extension": ".py",
   "mimetype": "text/x-python",
   "name": "python",
   "nbconvert_exporter": "python",
   "pygments_lexer": "ipython3",
   "version": "3.8.8"
  }
 },
 "nbformat": 4,
 "nbformat_minor": 5
}
